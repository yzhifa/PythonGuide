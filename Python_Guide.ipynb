{
  "nbformat": 4,
  "nbformat_minor": 0,
  "metadata": {
    "colab": {
      "name": "Python Guide",
      "version": "0.3.2",
      "provenance": [],
      "collapsed_sections": [],
      "include_colab_link": true
    },
    "kernelspec": {
      "name": "python3",
      "display_name": "Python 3"
    }
  },
  "cells": [
    {
      "cell_type": "markdown",
      "metadata": {
        "id": "view-in-github",
        "colab_type": "text"
      },
      "source": [
        "<a href=\"https://colab.research.google.com/github/yzhifa/PythonGuide/blob/master/Python_Guide.ipynb\" target=\"_parent\"><img src=\"https://colab.research.google.com/assets/colab-badge.svg\" alt=\"Open In Colab\"/></a>"
      ]
    },
    {
      "metadata": {
        "id": "_wpnC3Wle4ez",
        "colab_type": "text"
      },
      "cell_type": "markdown",
      "source": [
        "# Python Essentials\n",
        "## A Guide on Functional Programming with Python\n",
        "\n",
        "### Introduction\n",
        "This guide is written in hope that it contains enough information on Python programming for a beginner to learn the language and to write functional codes quickly, and a quick-reference guide for the more experienced.\n",
        "\n",
        "### Python Version\n",
        "All code examples are written in Python 3. \n",
        "\n",
        "### Notebook and Colaboratory\n",
        "This notebook is written with Google's [Colaboratory](https://colab.research.google.com/). A Google account is required for access and creating notebooks, but it is a powerful tool to learn Python without installing any programming onto the computer. Similar products are Jupyter notebooks (by Anaconda).\n",
        "\n",
        "### Some notes on writing \"Pythonic\" codes\n",
        "Codes written should be what the community calls \"Pythonic\". The Zen of Python (below) summarises what is meant by a \"pythonic\" code. \n",
        "\n",
        "\n",
        "\n"
      ]
    },
    {
      "metadata": {
        "id": "hFr13iASiVUi",
        "colab_type": "code",
        "outputId": "cf32cd76-38cf-4f52-a0e9-a5e82073bdf7",
        "colab": {
          "base_uri": "https://localhost:8080/",
          "height": 374
        }
      },
      "cell_type": "code",
      "source": [
        "import this"
      ],
      "execution_count": 0,
      "outputs": [
        {
          "output_type": "stream",
          "text": [
            "The Zen of Python, by Tim Peters\n",
            "\n",
            "Beautiful is better than ugly.\n",
            "Explicit is better than implicit.\n",
            "Simple is better than complex.\n",
            "Complex is better than complicated.\n",
            "Flat is better than nested.\n",
            "Sparse is better than dense.\n",
            "Readability counts.\n",
            "Special cases aren't special enough to break the rules.\n",
            "Although practicality beats purity.\n",
            "Errors should never pass silently.\n",
            "Unless explicitly silenced.\n",
            "In the face of ambiguity, refuse the temptation to guess.\n",
            "There should be one-- and preferably only one --obvious way to do it.\n",
            "Although that way may not be obvious at first unless you're Dutch.\n",
            "Now is better than never.\n",
            "Although never is often better than *right* now.\n",
            "If the implementation is hard to explain, it's a bad idea.\n",
            "If the implementation is easy to explain, it may be a good idea.\n",
            "Namespaces are one honking great idea -- let's do more of those!\n"
          ],
          "name": "stdout"
        }
      ]
    },
    {
      "metadata": {
        "id": "uf6Ws6XNjFzU",
        "colab_type": "text"
      },
      "cell_type": "markdown",
      "source": [
        "## Topics\n",
        "The following is the minimum requirement to write a functional code and will be covered in this guide:\n",
        "- Data Types\n",
        "- Data Structures\n",
        "- Functions\n",
        "- Loop and Iterations\n",
        "- Importing and Using Packages\n",
        "\n",
        "### Some notes on Classes, Attributes and Methods\n",
        "Python is a object-orientated programming (OOP) language. The definition of an OOP is ubiquitous in the Internet and can be found easily with a Google search. In Python, objects are created using _classes_. This is the most powerful feature in Python because Python classes are supposedly very easy to write. Unfortunately this topic is not covered in much extent because the aim of this section is to introduce the idea of Attributes and Methods, which are components of a class, depending on how they are defined. Consider the following example:\n",
        "\n",
        "\n",
        "\n",
        "\n"
      ]
    },
    {
      "metadata": {
        "id": "4X4OiuXhl_K_",
        "colab_type": "code",
        "colab": {}
      },
      "cell_type": "code",
      "source": [
        "class Square():\n",
        "    def __init__(self, L):\n",
        "      self.Length = L\n",
        "      self.Area = L**2\n",
        "    def perimeter(self):\n",
        "      return 4*self.Length"
      ],
      "execution_count": 0,
      "outputs": []
    },
    {
      "metadata": {
        "id": "tUaMQ-iToGg1",
        "colab_type": "text"
      },
      "cell_type": "markdown",
      "source": [
        "The simple code above defines a class (object) call \"Square\". The first ```def``` line defines the behaviour when initializing the class. The subsequent two lines that follow define the Length and Area of the object Square respectively. These are the **attributes** of the object and are usually in the form ```Class.Attribute```.\n",
        "\n",
        "The second ```def``` code is a function that resides within the class to calculate other properties. This function can be invoke by calling out the class. Such a function is call a **method** and is usually in the form ```Class.Method()``` - note the parentheses.\n",
        "\n",
        "The following codes shows how it is used. \n",
        "\n"
      ]
    },
    {
      "metadata": {
        "id": "4y1HNH0-nD52",
        "colab_type": "code",
        "colab": {}
      },
      "cell_type": "code",
      "source": [
        "# First, initialize a square S with length of 2 units. Note that there is no need to declare the \"self\" variable.\n",
        "S = Square(2)"
      ],
      "execution_count": 0,
      "outputs": []
    },
    {
      "metadata": {
        "id": "4-OhLvoZnOY4",
        "colab_type": "code",
        "outputId": "374d858c-5004-4045-f946-07df966e963a",
        "colab": {
          "base_uri": "https://localhost:8080/",
          "height": 34
        }
      },
      "cell_type": "code",
      "source": [
        "# We can check the length of the square by checking its attributes\n",
        "# Checking the length attribute - 2 is expected.\n",
        "S.Length"
      ],
      "execution_count": 0,
      "outputs": [
        {
          "output_type": "execute_result",
          "data": {
            "text/plain": [
              "2"
            ]
          },
          "metadata": {
            "tags": []
          },
          "execution_count": 4
        }
      ]
    },
    {
      "metadata": {
        "id": "62B4L353nPec",
        "colab_type": "code",
        "outputId": "0411a188-19dc-49f3-f7f1-354afa5e94e4",
        "colab": {
          "base_uri": "https://localhost:8080/",
          "height": 34
        }
      },
      "cell_type": "code",
      "source": [
        "# Checking the area attribute - 4 is expected.\n",
        "S.Area"
      ],
      "execution_count": 0,
      "outputs": [
        {
          "output_type": "execute_result",
          "data": {
            "text/plain": [
              "4"
            ]
          },
          "metadata": {
            "tags": []
          },
          "execution_count": 5
        }
      ]
    },
    {
      "metadata": {
        "id": "IEj0oxj2rgdD",
        "colab_type": "text"
      },
      "cell_type": "markdown",
      "source": [
        ""
      ]
    },
    {
      "metadata": {
        "id": "9Kt0GzZTqVdj",
        "colab_type": "code",
        "outputId": "1a5fb162-255a-4b6c-9964-9df0f3ab0263",
        "colab": {
          "base_uri": "https://localhost:8080/",
          "height": 34
        }
      },
      "cell_type": "code",
      "source": [
        "# Now, we can calculate the perimeter using the \"Perimeter\" method.\n",
        "S.perimeter()"
      ],
      "execution_count": 0,
      "outputs": [
        {
          "output_type": "execute_result",
          "data": {
            "text/plain": [
              "8"
            ]
          },
          "metadata": {
            "tags": []
          },
          "execution_count": 6
        }
      ]
    },
    {
      "metadata": {
        "id": "gJ7_DFrNqxm9",
        "colab_type": "text"
      },
      "cell_type": "markdown",
      "source": [
        "Classes are the building blocks of many powerful packages. Distinguishing between attributes and methods will help with optimizing the utility of the packages. "
      ]
    },
    {
      "metadata": {
        "id": "9of5UMZ0rtZC",
        "colab_type": "text"
      },
      "cell_type": "markdown",
      "source": [
        "##Data Types\n",
        "\n",
        "The common data types are *Integer, Float, String and Boolean.*\n",
        "\n",
        "###Integers\n",
        "Integers are whole numbers (0, 1, 2, 3, 4, ...). They are also used as counters in a loop/iteration.\n",
        "\n",
        "###Floats\n",
        "Floats are decimal numbers (0.1, 0.2, 0.3, 0.9, ...). They are numerical representation of measurements.\n",
        "\n",
        "###Strings\n",
        "Strings are characters (\"A\", \"a\", \"WORLD123\", \"hello\"). Note that a string is bounded by quotation marks. A number that is bounded by a quotation marks is a string.\n",
        "\n",
        "###Booleans\n",
        "Booleans are True or False. Numerically, True = 1 and False = 0.\n",
        "\n",
        "\n",
        "---\n",
        "\n",
        "\n",
        "Some data structures (to be covered shortly) have data types considerations. That is, some data structures require that the data are of the same type, whereas some do not. Fortunately, Python is \"smart\" enough to distinguish the data type in most cases.\n",
        "\n"
      ]
    },
    {
      "metadata": {
        "id": "c4-bekxltcPG",
        "colab_type": "code",
        "outputId": "404587e8-e4d8-46ed-c99d-b0f74727f120",
        "colab": {
          "base_uri": "https://localhost:8080/",
          "height": 255
        }
      },
      "cell_type": "code",
      "source": [
        "print(\"An example of a Integer:\")\n",
        "print(1, type(1))\n",
        "print(\"\\nAn example of a Float:\")\n",
        "print(2.0, type(2.0))\n",
        "print(\"\\nAn example of a String:\")\n",
        "print(\"hello\", type(\"hello\"))\n",
        "print(\"\\nAn example of a Boolean:\")\n",
        "print(True, type(True))\n",
        "print(\"\\nNumerical value of True:\")\n",
        "print(int(True))"
      ],
      "execution_count": 0,
      "outputs": [
        {
          "output_type": "stream",
          "text": [
            "An example of a Integer:\n",
            "1 <class 'int'>\n",
            "\n",
            "An example of a Float:\n",
            "2.0 <class 'float'>\n",
            "\n",
            "An example of a String:\n",
            "hello <class 'str'>\n",
            "\n",
            "An example of a Boolean:\n",
            "True <class 'bool'>\n",
            "\n",
            "Numerical value of True:\n",
            "1\n"
          ],
          "name": "stdout"
        }
      ]
    },
    {
      "metadata": {
        "id": "cgP-X8Y4vEfW",
        "colab_type": "text"
      },
      "cell_type": "markdown",
      "source": [
        "##Data Structures\n",
        "Data structure determines how data are stored, which affects the speed of processing such as sorting and searching (this has to do with algorithms design, which is beyond the scope of this guide). The common data structures are *List, Dictionaries and Tuples*. Each have their own features that should be considered."
      ]
    },
    {
      "metadata": {
        "id": "Nrkv1puwv30l",
        "colab_type": "text"
      },
      "cell_type": "markdown",
      "source": [
        "###List\n",
        "A list is a collection of data with index. In Python, a list is defined by enclosing the data within a pair of square brackets. Data are indexed (or numbered if you will) sequentially.\n",
        "Lists are commonly used in iterations/loops, as shown in the following code."
      ]
    },
    {
      "metadata": {
        "id": "5Ns0JkZwwn3U",
        "colab_type": "code",
        "outputId": "668aaa8b-0896-4af6-fc4d-730fdc8eb496",
        "colab": {
          "base_uri": "https://localhost:8080/",
          "height": 34
        }
      },
      "cell_type": "code",
      "source": [
        "# Define a list\n",
        "lst = [1,2,3,4,5,6]\n",
        "\n",
        "print(type(lst))"
      ],
      "execution_count": 0,
      "outputs": [
        {
          "output_type": "stream",
          "text": [
            "<class 'list'>\n"
          ],
          "name": "stdout"
        }
      ]
    },
    {
      "metadata": {
        "id": "-Um8hWUBxOTm",
        "colab_type": "text"
      },
      "cell_type": "markdown",
      "source": [
        "Lists are indexed and the indices can be called out using the index-method(```.index()```). Suppose we want to find out the index of 4 in the list. Expect result  is 3. (Remember that Python is 0-indexed)."
      ]
    },
    {
      "metadata": {
        "id": "q4BOqbfaxXRu",
        "colab_type": "code",
        "outputId": "6995963c-2db4-4e61-8882-093ec8007a2b",
        "colab": {
          "base_uri": "https://localhost:8080/",
          "height": 34
        }
      },
      "cell_type": "code",
      "source": [
        "lst.index(4)"
      ],
      "execution_count": 0,
      "outputs": [
        {
          "output_type": "execute_result",
          "data": {
            "text/plain": [
              "3"
            ]
          },
          "metadata": {
            "tags": []
          },
          "execution_count": 9
        }
      ]
    },
    {
      "metadata": {
        "id": "Gxa9VoKuxy5L",
        "colab_type": "text"
      },
      "cell_type": "markdown",
      "source": [
        "####Manipulating Lists\n",
        "- Lists can be appended\n",
        "- Lists can be sliced/diced using index\n",
        "- Multiple lists can be added to form a bigger one\n",
        "\n",
        "\n"
      ]
    },
    {
      "metadata": {
        "id": "N7zGU8bTyjGW",
        "colab_type": "code",
        "outputId": "6692733f-3a95-48e1-bebc-63c154b9f486",
        "colab": {
          "base_uri": "https://localhost:8080/",
          "height": 68
        }
      },
      "cell_type": "code",
      "source": [
        "print('Appending a list:')\n",
        "print(lst)\n",
        "lst.append(7)\n",
        "print(lst)"
      ],
      "execution_count": 0,
      "outputs": [
        {
          "output_type": "stream",
          "text": [
            "Appending a list:\n",
            "[1, 2, 3, 4, 5, 6]\n",
            "[1, 2, 3, 4, 5, 6, 7]\n"
          ],
          "name": "stdout"
        }
      ]
    },
    {
      "metadata": {
        "id": "8lYIYNJCyy3O",
        "colab_type": "code",
        "outputId": "edce83a4-3234-40da-a8df-aaa8519a2d1d",
        "colab": {
          "base_uri": "https://localhost:8080/",
          "height": 238
        }
      },
      "cell_type": "code",
      "source": [
        "print(\"Slicing/Dicing a list:\")\n",
        "print(\"Slice index 1 to 3 excluded:\")\n",
        "print(\"Expected: [2, 3]\")\n",
        "print(\"Results: \", lst[1:3])\n",
        "print(\"Note that Index-3 is excluded\")\n",
        "\n",
        "print(\"\\nSlice first 3 elements\")\n",
        "print(\"Expected: [1, 2, 3]\")\n",
        "print(\"Results: \", lst[:3])\n",
        "\n",
        "print(\"\\nSlice last 3 elements\")\n",
        "print(\"Expected: [5, 6, 7]\")\n",
        "print(\"Results: \", lst[-3:])\n"
      ],
      "execution_count": 0,
      "outputs": [
        {
          "output_type": "stream",
          "text": [
            "Slicing/Dicing a list:\n",
            "Slice index 1 to 3 excluded:\n",
            "Expected: [2, 3]\n",
            "Results:  [2, 3]\n",
            "Note that Index-3 is excluded\n",
            "\n",
            "Slice first 3 elements\n",
            "Expected: [1, 2, 3]\n",
            "Results:  [1, 2, 3]\n",
            "\n",
            "Slice last 3 elements\n",
            "Expected: [5, 6, 7]\n",
            "Results:  [5, 6, 7]\n"
          ],
          "name": "stdout"
        }
      ]
    },
    {
      "metadata": {
        "id": "EIj8_sTA-ihK",
        "colab_type": "text"
      },
      "cell_type": "markdown",
      "source": [
        "*Note:* Only the basic slicing and dicing of a list is discussed here. There are actually many more tricks that can be deployed, and can be found in more extensive guides."
      ]
    },
    {
      "metadata": {
        "id": "gRolznnn0yAm",
        "colab_type": "code",
        "outputId": "a6ec4f83-3c41-40db-82a1-0c7acfb89b36",
        "colab": {
          "base_uri": "https://localhost:8080/",
          "height": 51
        }
      },
      "cell_type": "code",
      "source": [
        "print(\"Adding Lists\")\n",
        "lstA = [1,2,3,4,5]\n",
        "lstB = [6,7,8,9,0]\n",
        "lstC = lstA + lstB\n",
        "print(lstC)"
      ],
      "execution_count": 0,
      "outputs": [
        {
          "output_type": "stream",
          "text": [
            "Adding Lists\n",
            "[1, 2, 3, 4, 5, 6, 7, 8, 9, 0]\n"
          ],
          "name": "stdout"
        }
      ]
    },
    {
      "metadata": {
        "id": "vYGPM4dx1Ee2",
        "colab_type": "text"
      },
      "cell_type": "markdown",
      "source": [
        "**TIP:** A fast way to create a list is to use the split method on a string containing the data. For example, creating a list that contains the number 1 to 5."
      ]
    },
    {
      "metadata": {
        "id": "_X3MkQrh1TG9",
        "colab_type": "code",
        "outputId": "d6f5089b-9b4c-45ca-8d26-8a3f358899af",
        "colab": {
          "base_uri": "https://localhost:8080/",
          "height": 34
        }
      },
      "cell_type": "code",
      "source": [
        "# Create a string with the data\n",
        "str = '1,2,3,4,5'\n",
        "# Use the split method on the string\n",
        "splt = str.split(',')\n",
        "print(splt)"
      ],
      "execution_count": 0,
      "outputs": [
        {
          "output_type": "stream",
          "text": [
            "['1', '2', '3', '4', '5']\n"
          ],
          "name": "stdout"
        }
      ]
    },
    {
      "metadata": {
        "id": "alH_8q0S1oXH",
        "colab_type": "text"
      },
      "cell_type": "markdown",
      "source": [
        "####List Comprehension\n",
        "Notice that while the list is created, the elements are of data type string. To convert the elements to numerals, list comprehension can be used. List comprehension is an important feature in Python that allows manipulation of list quickly, without too much iteration or creating too many redundant lists in the process. \n",
        "\n",
        "The syntax for list comprehension is:\n",
        "```\n",
        "[i for i in list]\n",
        "```\n",
        "List comprehension is essentially a iteration but operated within a list. The output is a list. Each element in the list *list*  is represented by ```i```. ```for i in list``` hence means \"for each element in list\". the first ```i``` in the list comprehension is the operation that is applied on the element. In the code that follows, each element in the list ```splt``` is converted to an integer (```int()```). If no operation is specified, the list comprehension simply replicates the list."
      ]
    },
    {
      "metadata": {
        "id": "565W9bWM14Av",
        "colab_type": "code",
        "outputId": "d99b30bb-43c2-4dba-e1ab-60e44ca9c4bb",
        "colab": {
          "base_uri": "https://localhost:8080/",
          "height": 34
        }
      },
      "cell_type": "code",
      "source": [
        "# List Comprehension\n",
        "numLst = [int(i) for i in splt]\n",
        "\n",
        "print(numLst)"
      ],
      "execution_count": 0,
      "outputs": [
        {
          "output_type": "stream",
          "text": [
            "[1, 2, 3, 4, 5]\n"
          ],
          "name": "stdout"
        }
      ]
    },
    {
      "metadata": {
        "id": "-4ofuMBh830B",
        "colab_type": "text"
      },
      "cell_type": "markdown",
      "source": [
        "####Sorting A List\n",
        "To sort a list, use ```sorted()```. List are sorted in ascending order by default."
      ]
    },
    {
      "metadata": {
        "id": "7h8O06LW9Id-",
        "colab_type": "code",
        "outputId": "d9ea568c-e50f-4a8d-fb14-5e51fa35ee9c",
        "colab": {
          "base_uri": "https://localhost:8080/",
          "height": 68
        }
      },
      "cell_type": "code",
      "source": [
        "lst = [1, 3, 2, 5, 4]\n",
        "lst_sorted = sorted(lst)\n",
        "lst_descend = sorted(lst, reverse=True)\n",
        "\n",
        "print(\"The list: \", lst)\n",
        "print(\"The sorted list with defaults: \", lst_sorted)\n",
        "print(\"The list sorted in descending order: \", lst_descend)"
      ],
      "execution_count": 0,
      "outputs": [
        {
          "output_type": "stream",
          "text": [
            "The list:  [1, 3, 2, 5, 4]\n",
            "The sorted list with defaults:  [1, 2, 3, 4, 5]\n",
            "The list sorted in descending order:  [5, 4, 3, 2, 1]\n"
          ],
          "name": "stdout"
        }
      ]
    },
    {
      "metadata": {
        "id": "JaL968hZ_u5m",
        "colab_type": "text"
      },
      "cell_type": "markdown",
      "source": [
        "Do note that, however, the indices of the elements in the list may be changed when the list is sorted, especially when working with dataframes using the *sort_by* method. More on this later.  Using the *sorted* method does not have the indices problem. This can be easily verified."
      ]
    },
    {
      "metadata": {
        "id": "YcT7TmW--JrS",
        "colab_type": "code",
        "outputId": "3dc01776-8488-4231-f9fd-5da59109bc7b",
        "colab": {
          "base_uri": "https://localhost:8080/",
          "height": 102
        }
      },
      "cell_type": "code",
      "source": [
        "for i in lst_sorted:\n",
        "    print(lst_sorted.index(i))"
      ],
      "execution_count": 0,
      "outputs": [
        {
          "output_type": "stream",
          "text": [
            "0\n",
            "1\n",
            "2\n",
            "3\n",
            "4\n"
          ],
          "name": "stdout"
        }
      ]
    },
    {
      "metadata": {
        "id": "SN9lNOo-A4tv",
        "colab_type": "text"
      },
      "cell_type": "markdown",
      "source": [
        "### Dictionaries\n",
        "Dictionaries use harshing to store data for efficient searching. A dictionary stores *keys* of data, which in turn store the *values* of the data. The keys and values of a dictionary are collectively called *items*. Dictionaries are defined by bounding the data using curly braces { ... }  and has the form: ```{keys : values}```. Note that ```values``` can be any datatype - a list, tuple, a dataframe or even another dictionary.\n",
        "\n",
        "Here's an example and some flavour of a dictionary."
      ]
    },
    {
      "metadata": {
        "id": "j-NqlZd40xXo",
        "colab_type": "code",
        "colab": {}
      },
      "cell_type": "code",
      "source": [
        "# Define a dictionary\n",
        "exDict = {\"a\" : [1,2,3,4], \"b\": \"hello\", \"c\": (4,5,6,7)}"
      ],
      "execution_count": 0,
      "outputs": []
    },
    {
      "metadata": {
        "id": "hrU98r2xyyML",
        "colab_type": "code",
        "outputId": "ed04bb3c-e4c5-440a-9c85-3121f414c397",
        "colab": {
          "base_uri": "https://localhost:8080/",
          "height": 68
        }
      },
      "cell_type": "code",
      "source": [
        "print(\"Dictionary items: \", exDict.items())\n",
        "print(\"Dictionary keys: \", exDict.keys())\n",
        "print(\"Dictionary values: \", exDict.values())"
      ],
      "execution_count": 0,
      "outputs": [
        {
          "output_type": "stream",
          "text": [
            "Dictionary items:  dict_items([('a', [1, 2, 3, 4]), ('b', 'hello'), ('c', (4, 5, 6, 7))])\n",
            "Dictionary keys:  dict_keys(['a', 'b', 'c'])\n",
            "Dictionary values:  dict_values([[1, 2, 3, 4], 'hello', (4, 5, 6, 7)])\n"
          ],
          "name": "stdout"
        }
      ]
    },
    {
      "metadata": {
        "id": "WimSkeh3ClAb",
        "colab_type": "text"
      },
      "cell_type": "markdown",
      "source": [
        "Note that the information that the dictionary stores (items, keys, values) are called out using the respective methods. Also, the output is a dictionary object, which can be easily converted to a list using a *list()* method (not shown here).\n",
        "\n",
        "A syntax similar to list slicing is used to call out the individual components in the dictionary. For example, to call out item \"a\" in the dictionary we use \n",
        "```\n",
        "exDict[\"a\"]\n",
        "```\n",
        "Since key \"a\" stores a list, the output will be a list, which can be further manipulated with list operations discussed previously."
      ]
    },
    {
      "metadata": {
        "id": "JJ8Av2qBD0ao",
        "colab_type": "code",
        "outputId": "511c7f68-c7eb-455e-dae6-c56811d666cc",
        "colab": {
          "base_uri": "https://localhost:8080/",
          "height": 34
        }
      },
      "cell_type": "code",
      "source": [
        "print(exDict[\"a\"])"
      ],
      "execution_count": 0,
      "outputs": [
        {
          "output_type": "stream",
          "text": [
            "[1, 2, 3, 4]\n"
          ],
          "name": "stdout"
        }
      ]
    },
    {
      "metadata": {
        "id": "rGnZve2aD6VR",
        "colab_type": "code",
        "outputId": "6036706c-1358-4211-b25f-6e9525c26729",
        "colab": {
          "base_uri": "https://localhost:8080/",
          "height": 34
        }
      },
      "cell_type": "code",
      "source": [
        "# Define a variable A to have the values stored in key \"a\" of the dictionary\n",
        "A = exDict[\"a\"]\n",
        "\n",
        "# Recall that variable A will be a list. Obtain the value in index 3 of a; expect 4.\n",
        "A[3]"
      ],
      "execution_count": 0,
      "outputs": [
        {
          "output_type": "execute_result",
          "data": {
            "text/plain": [
              "4"
            ]
          },
          "metadata": {
            "tags": []
          },
          "execution_count": 20
        }
      ]
    },
    {
      "metadata": {
        "id": "ArKLwpWeFHkQ",
        "colab_type": "text"
      },
      "cell_type": "markdown",
      "source": [
        "Note the following about dictionaries:\n",
        "- Dictionaries are mutable. That is, new keys can be added. Values can be changed. \n",
        "- Dictionaries are not iterable - an iteration can be performed over a dictionary. However, the keys and values can be, depending on their respective data types of course.\n",
        "- Dictionaries do not have an index, hence keys may not have any order when printed.\n",
        "\n",
        "---\n",
        "\n",
        "Dictionaries are useful in storing and segregating processed data. An example would be storing the optimal allocation/configuration after an optimization is performed on the data.\n",
        "\n",
        "Here's an example to segregate even and odd numbers."
      ]
    },
    {
      "metadata": {
        "id": "F8ZrFw2GGC1f",
        "colab_type": "code",
        "outputId": "bb4b227b-56a9-45d1-88ae-c56e7fe91c98",
        "colab": {
          "base_uri": "https://localhost:8080/",
          "height": 34
        }
      },
      "cell_type": "code",
      "source": [
        "numbers = list(range(10))\n",
        "# range(10) returns 10 integers starting from 0.\n",
        "# \"list\" method returns a list of numbers 0 to 9.\n",
        "numbers"
      ],
      "execution_count": 0,
      "outputs": [
        {
          "output_type": "execute_result",
          "data": {
            "text/plain": [
              "[0, 1, 2, 3, 4, 5, 6, 7, 8, 9]"
            ]
          },
          "metadata": {
            "tags": []
          },
          "execution_count": 21
        }
      ]
    },
    {
      "metadata": {
        "id": "mGb7WUUxGsHi",
        "colab_type": "code",
        "outputId": "04710c57-fb18-45f4-8367-4743dbd0f2d4",
        "colab": {
          "base_uri": "https://localhost:8080/",
          "height": 34
        }
      },
      "cell_type": "code",
      "source": [
        "# Define a dictionary\n",
        "num = {\"even\":[], \"odd\":[]}\n",
        "\n",
        "# Iterate over \"numbers\" and allocate the number to key \"even\" if it is an even number\n",
        "# or key \"odd\" otherwise\n",
        "\n",
        "for i in numbers:\n",
        "    if i%2 == 0:\n",
        "        # % here is \"modulo\" that is it returns the remainder of a division\n",
        "        num[\"even\"].append(i)\n",
        "    else:\n",
        "        num[\"odd\"].append(i)\n",
        "        \n",
        "num\n",
        "        "
      ],
      "execution_count": 0,
      "outputs": [
        {
          "output_type": "execute_result",
          "data": {
            "text/plain": [
              "{'even': [0, 2, 4, 6, 8], 'odd': [1, 3, 5, 7, 9]}"
            ]
          },
          "metadata": {
            "tags": []
          },
          "execution_count": 22
        }
      ]
    },
    {
      "metadata": {
        "id": "ULXaBem1v7XJ",
        "colab_type": "text"
      },
      "cell_type": "markdown",
      "source": [
        "###Tuples\n",
        "- Data are stored within a bracket ( ... ) in a tuple.\n",
        "- Like lists, data are indexed, meaning elements of a tuple can be called out using index slicing\n",
        "- However, tuples are immutable. No new item can be added.\n",
        "- Tuples can be \"unpacked\" - a number of variables equal to the number of elements in the tuple can be defined simultaneously. This makes it useful for functions with multiple value returns, as we shall see later. (A list can be unpacked too. But the fact that tuples are immutable makes unpacking have more utility because the number of the elements in a list may change, whereas a tuple, will not). \n"
      ]
    },
    {
      "metadata": {
        "id": "IvEdChrO4XIG",
        "colab_type": "code",
        "outputId": "d69cc029-16eb-444a-9298-16d92fcbf06d",
        "colab": {
          "base_uri": "https://localhost:8080/",
          "height": 34
        }
      },
      "cell_type": "code",
      "source": [
        "tup = (1, 2, 3, 4, 5)\n",
        "tup[2] # Expect: 3"
      ],
      "execution_count": 0,
      "outputs": [
        {
          "output_type": "execute_result",
          "data": {
            "text/plain": [
              "3"
            ]
          },
          "metadata": {
            "tags": []
          },
          "execution_count": 23
        }
      ]
    },
    {
      "metadata": {
        "id": "Y45mYL6TLpCJ",
        "colab_type": "code",
        "outputId": "86839a6f-f481-4db5-f6fd-21bd5dd355e8",
        "colab": {
          "base_uri": "https://localhost:8080/",
          "height": 102
        }
      },
      "cell_type": "code",
      "source": [
        "# Tuple Unpacking\n",
        "a, b, c, d, e = tup\n",
        "\n",
        "print(\"a = \", a)\n",
        "print(\"b = \", b)\n",
        "print(\"c = \", c)\n",
        "print(\"d = \", d)\n",
        "print(\"e = \", e)"
      ],
      "execution_count": 0,
      "outputs": [
        {
          "output_type": "stream",
          "text": [
            "a =  1\n",
            "b =  2\n",
            "c =  3\n",
            "d =  4\n",
            "e =  5\n"
          ],
          "name": "stdout"
        }
      ]
    },
    {
      "metadata": {
        "id": "rEgRVmMZAg_G",
        "colab_type": "text"
      },
      "cell_type": "markdown",
      "source": [
        "###Dataframes\n",
        "- Dataframes (or *df*) is data presented in a tabular form, like a spreadsheet. Its columns are theparameters and the rows are the corresponding measurements/observations.\n",
        "- Dataframes are commonly used in data analysis. \n",
        "- The pandas library is commonly used to create and manipulate dataframes.\n",
        "    - It allows various form of data files - csv, txt, excel, and even querying from a relational (SQL) database.\n",
        "    - It can also create pivot tables and plots. \n",
        "    - Pandas also allow joining and merging of tables.\n",
        " \n",
        "- Dataframe manipulation is a very broad topic, and it is beyond the scope of this guide. Regardless, it is a must-have tool any serious data analyst using Python. The [pandas documentation](https://pandas.pydata.org/) page is a good place to start learning about the library. "
      ]
    },
    {
      "metadata": {
        "id": "a5eqOxyl4XlY",
        "colab_type": "text"
      },
      "cell_type": "markdown",
      "source": [
        "## Functions\n",
        "Functions can be defined to make iterative computations or operations easy. Functions can also make the code easier to read and debug.\n",
        "The syntax of a function in Python is\n",
        "```\n",
        "def FunctionName(Parameters):\n",
        "    <Function body - Operations involving Parameters stated>\n",
        "    return <Output from the Operations>\n",
        "```\n",
        "Remember that Python is sensitive to white spaces and the indentation after the ```def``` line is required. Otherwise, an error will occur.\n",
        "\n",
        "---\n",
        "\n",
        "Here's an example of a function to determine if a number is even or not.\n"
      ]
    },
    {
      "metadata": {
        "id": "02LKJnfURpGr",
        "colab_type": "code",
        "colab": {}
      },
      "cell_type": "code",
      "source": [
        "# Define the function\n",
        "def EvenOrNot(n):\n",
        "    if n%2 == 0:\n",
        "        print(\"The number is even\")\n",
        "    else:\n",
        "        print(\"The number is not even\")\n"
      ],
      "execution_count": 0,
      "outputs": []
    },
    {
      "metadata": {
        "id": "JR7wcC8PSRGt",
        "colab_type": "code",
        "outputId": "728ad8cd-dccb-4cce-e099-37d0a3a8f333",
        "colab": {
          "base_uri": "https://localhost:8080/",
          "height": 34
        }
      },
      "cell_type": "code",
      "source": [
        "# Test if 3 is even\n",
        "EvenOrNot(3)"
      ],
      "execution_count": 0,
      "outputs": [
        {
          "output_type": "stream",
          "text": [
            "The number is not even\n"
          ],
          "name": "stdout"
        }
      ]
    },
    {
      "metadata": {
        "id": "lXSLIUBOSffY",
        "colab_type": "text"
      },
      "cell_type": "markdown",
      "source": [
        "Notice the missing *return* line in the function definition? It is deliberately left out. While it may not be a good practice, the return line is not required if the funciton is not expected to return any value for computation."
      ]
    },
    {
      "metadata": {
        "id": "v0J9jjzWT_KM",
        "colab_type": "text"
      },
      "cell_type": "markdown",
      "source": [
        "### Returning multiple values - using tuple unpacking\n",
        "If a function returns multiple values, we can use tuple unpacking to get the results. Here's an example function that returns the square and cube of a number."
      ]
    },
    {
      "metadata": {
        "id": "_m1aecieSfKS",
        "colab_type": "code",
        "colab": {}
      },
      "cell_type": "code",
      "source": [
        "def sqCube(n):\n",
        "    return n**2, n**3"
      ],
      "execution_count": 0,
      "outputs": []
    },
    {
      "metadata": {
        "id": "6C-k8L00Uch5",
        "colab_type": "code",
        "outputId": "600a9795-8dcb-48fd-989d-7139b6ca528b",
        "colab": {
          "base_uri": "https://localhost:8080/",
          "height": 51
        }
      },
      "cell_type": "code",
      "source": [
        "sq, cb = sqCube(3)\n",
        "print(\"Expected: 9, Result: \", sq)\n",
        "print(\"Expected: 27, Result: \", cb)"
      ],
      "execution_count": 0,
      "outputs": [
        {
          "output_type": "stream",
          "text": [
            "Expected: 9, Result:  9\n",
            "Expected: 27, Result:  27\n"
          ],
          "name": "stdout"
        }
      ]
    },
    {
      "metadata": {
        "id": "REmHmhL9RuGk",
        "colab_type": "text"
      },
      "cell_type": "markdown",
      "source": [
        "##Conditions\n",
        "One of the aims of coding is to make the programme perform some tasks. Conditional statements will be stated and certain specific tasks will be performed when those conditions are met. In Python, the syntax for a single condition statement is\n",
        "```\n",
        "if <condition 1>:\n",
        "    <task if condition 1 is met>\n",
        "else:\n",
        "    <task if condition 1 is not met>\n",
        "```\n",
        "\n",
        "The ```else``` statement is not necessary if there is no action required when the condition stated is not met.\n",
        "\n",
        "For nested conditions, the syntax is\n",
        "```\n",
        "if <condition 1>:\n",
        "    <task if condition 1 is met>\n",
        "elif <condition 2>:\n",
        "    <task if condition 2 is met>\n",
        "elif <condition 3>:\n",
        "    <task if condition 3 is met>\n",
        "else:\n",
        "    <task if no condition is met>\n",
        "```\n",
        "\n",
        "```elif``` is \"else if\" in some other programming language like VBA.\n",
        "\n",
        "The conditional statements are used in some of the examples. Try reviewing the material discussed so far and see if you can spot the use of conditional statements. "
      ]
    },
    {
      "metadata": {
        "id": "N97X49zqRuWW",
        "colab_type": "text"
      },
      "cell_type": "markdown",
      "source": [
        "##Loops"
      ]
    },
    {
      "metadata": {
        "id": "h4hRzIOAXs8K",
        "colab_type": "text"
      },
      "cell_type": "markdown",
      "source": [
        "Computers excel in iterative operations and computations, and almost all, if not all, programming languages have provision to perform iterations, or loops. There are generally two kinds of loops - the while-loop and the for-loop. \n",
        "\n",
        "The while-loop is conditional; the iteration will continue as long as some conditions are met. \n",
        "\n",
        "```\n",
        "while <condition>:\n",
        "    <task when condition is met>\n",
        "```\n",
        "Use while-loops with caution because it might get into a infinite operation if the end conditions are not set. The following will result in a infinite loop (do not try):\n",
        "\n",
        "```\n",
        "while True:\n",
        "    print(\"hello\")\n",
        "```\n",
        "\n",
        "The above simply states that if the condition is ```True```, print \"hello\". The result is an infinite printouts of \"hello\".\n",
        "\n",
        "The following code shows an example of a functioning while-loop to print a text 5 times. Notice some kind of counter is required and the counter is required to be changed accordingly depending on how the conditions are set.\n",
        "\n"
      ]
    },
    {
      "metadata": {
        "id": "nb45drX-Z9WL",
        "colab_type": "code",
        "outputId": "dda73e9e-7721-4415-8152-d291a021f2c7",
        "colab": {
          "base_uri": "https://localhost:8080/",
          "height": 102
        }
      },
      "cell_type": "code",
      "source": [
        "c = 5\n",
        "while c > 0:\n",
        "    print(\"hello\")\n",
        "    # Ending condition\n",
        "    c += -1"
      ],
      "execution_count": 0,
      "outputs": [
        {
          "output_type": "stream",
          "text": [
            "hello\n",
            "hello\n",
            "hello\n",
            "hello\n",
            "hello\n"
          ],
          "name": "stdout"
        }
      ]
    },
    {
      "metadata": {
        "id": "NGl7fhQSaZPE",
        "colab_type": "text"
      },
      "cell_type": "markdown",
      "source": [
        "The for-loop performs operations over a range of items (a counter, for example). \n",
        "```\n",
        "for <counter> in <range/list>:\n",
        "    <tasks to be performed>\n",
        "```\n",
        "There are two variations of the for-loop. The first is to iterate over a range of numbers, usually the number of items to be iterated over, usually collected in a list.\n",
        "\n",
        "```\n",
        "for c in range(len(a_list)):\n",
        "    print(c)\n",
        "```\n",
        "\n",
        "```c``` takes a numerical value corespondig to the index of the list in this case.\n",
        "\n",
        "The second approach is to iterate over the items in a collection, usually a list.\n",
        "\n",
        "\n",
        "```\n",
        "for z in a_list:\n",
        "    print(z)\n",
        "```\n",
        "\n",
        "In this case, ```z``` takes the value of the item in the list.\n",
        "\n",
        "The following codes show the two variations in action."
      ]
    },
    {
      "metadata": {
        "id": "HNYZmmkOaG0H",
        "colab_type": "code",
        "outputId": "f92f3760-f094-4dda-e98f-5c35845267aa",
        "colab": {
          "base_uri": "https://localhost:8080/",
          "height": 34
        }
      },
      "cell_type": "code",
      "source": [
        "# Create a list\n",
        "a_list = 'apple,banana,carrot,durian'.split(',')\n",
        "a_list"
      ],
      "execution_count": 0,
      "outputs": [
        {
          "output_type": "execute_result",
          "data": {
            "text/plain": [
              "['apple', 'banana', 'carrot', 'durian']"
            ]
          },
          "metadata": {
            "tags": []
          },
          "execution_count": 30
        }
      ]
    },
    {
      "metadata": {
        "id": "GAm_S9gdbgMv",
        "colab_type": "code",
        "outputId": "ca5aab47-f7a7-49e3-a2ec-198db8ecd136",
        "colab": {
          "base_uri": "https://localhost:8080/",
          "height": 85
        }
      },
      "cell_type": "code",
      "source": [
        "# Iterate over the number of items in the list\n",
        "for i in range(len(a_list)):\n",
        "    print(i, a_list[i])"
      ],
      "execution_count": 0,
      "outputs": [
        {
          "output_type": "stream",
          "text": [
            "0 apple\n",
            "1 banana\n",
            "2 carrot\n",
            "3 durian\n"
          ],
          "name": "stdout"
        }
      ]
    },
    {
      "metadata": {
        "id": "OO_DPc0NbynG",
        "colab_type": "code",
        "outputId": "03daeecb-d51a-4e66-bd03-522b74610c11",
        "colab": {
          "base_uri": "https://localhost:8080/",
          "height": 85
        }
      },
      "cell_type": "code",
      "source": [
        "# Iterate over the items in the list\n",
        "for i in a_list:\n",
        "    print(i)"
      ],
      "execution_count": 0,
      "outputs": [
        {
          "output_type": "stream",
          "text": [
            "apple\n",
            "banana\n",
            "carrot\n",
            "durian\n"
          ],
          "name": "stdout"
        }
      ]
    },
    {
      "metadata": {
        "id": "51cdHRnCcwY8",
        "colab_type": "text"
      },
      "cell_type": "markdown",
      "source": [
        "Using ```range(len(a_list))``` is not Pythonic. A preferred way is to use the ```enumerate()``` method, which returns a tuple of the index of an item and the item. In this case, the tuple is required to be unpacked - two counters are required instead of one."
      ]
    },
    {
      "metadata": {
        "id": "Db6IL6vFb4xH",
        "colab_type": "code",
        "outputId": "e92508ed-9ab6-4ec9-a1d6-896ca48b1a15",
        "colab": {
          "base_uri": "https://localhost:8080/",
          "height": 85
        }
      },
      "cell_type": "code",
      "source": [
        "for idx, item in enumerate(a_list):\n",
        "    print(idx, item)\n",
        "    # The result is similar to the example above, but it is easier to read."
      ],
      "execution_count": 0,
      "outputs": [
        {
          "output_type": "stream",
          "text": [
            "0 apple\n",
            "1 banana\n",
            "2 carrot\n",
            "3 durian\n"
          ],
          "name": "stdout"
        }
      ]
    },
    {
      "metadata": {
        "id": "2NNCWMBldkYF",
        "colab_type": "text"
      },
      "cell_type": "markdown",
      "source": [
        "## Putting It Altogether\n",
        "\n",
        "The above topics will now allow you to write a functional code. We shall go through a simple optimization problem.\n",
        "\n",
        "### A Case Study - Maximizing variety with a fixed budget\n",
        "\n",
        "Suppose that you have a budget, *B*, and you would like to spend on the following items:\n",
        "1. Pencil (0.50 each, utility = 0.6)\n",
        "2. Pen (0.80 each, utility = 0.8)\n",
        "3. Ruler (0.60 each, utility = 0.2)\n",
        "4. Eraser (0.30 each, utility = 0.4)\n",
        "\n",
        "Utility is the measure of usefulness. The problem is to maximise utility with the given budget, subject to the constraint that\n",
        "- The maximum number of eraser you can buy is 10\n",
        "- The amount left over must be minimum.\n",
        "- Suppose *B* = 10\n",
        "\n",
        "The approach used here is optimizing via simulation, a simpler version of dynamic programming. As with all simulation, randomness needs to be introduced to allow random choice.\n",
        "\n",
        "The following code should address the problem. Refer to the comments on the intuition to each step of the code.\n"
      ]
    },
    {
      "metadata": {
        "id": "ONUxz3CddZ8q",
        "colab_type": "code",
        "outputId": "4a5b1447-ecc8-44c6-952b-50e4b8c8399c",
        "colab": {
          "base_uri": "https://localhost:8080/",
          "height": 187
        }
      },
      "cell_type": "code",
      "source": [
        "import numpy as np\n",
        "np.random.seed(168)\n",
        "\n",
        "B = 10\n",
        "\n",
        "things = 'pencil,pen,ruler,eraser'.split(',')\n",
        "pr = [0.5, 0.8, 0.6, 0.3]\n",
        "ut = [0.6, 0.8, 0.2, 0.4]\n",
        "\n",
        "def pick_items(t):\n",
        "\tidx = np.random.choice(range(len(t)))\n",
        "\treturn idx, t[idx]\n",
        "\t\n",
        "def add_to_bag(tg, pr, ut, B, constraint=['eraser', 3]):\n",
        "\t# tg = Things, pr= Price, ut = utility\n",
        "\tUt = 0\n",
        "\tbal = B\n",
        "\ttg2 = tg\n",
        "\tminPr = min(pr)\n",
        "\tbag = {}\n",
        "\t\n",
        "\t# constraint\n",
        "\ttConstraint = constraint[0]\n",
        "\tnConstraint = constraint[1]\n",
        "\tntrack = 0\n",
        "\ttrack1 = 0\n",
        "\ttrack2 = 0\n",
        "\t\n",
        "\twhile (bal > minPr):\n",
        "        \n",
        "        # Continue to pick things as long as there is money to buy at least the lowest priced item.\n",
        "\t\tidx, itm = pick_items(tg2)\n",
        "\t\t\n",
        "        # If the item picked result in a negative balance, pick again.\n",
        "\t\twhile (bal - pr[idx] < 0):\n",
        "\t\t\tidx, itm = pick_items(tg2)\n",
        "\t\t\ttrack1 +=1\n",
        "\t\t\t\n",
        "            # Set constraint to break infinite while loop\n",
        "\t\t\tif track1 == 500:\n",
        "\t\t\t\tbreak\n",
        "\t\t\n",
        "\t\t# If the above loop was stopped, check if the balance is negative. If so, break the outer while loop (forgo one iteration)\n",
        "\t\tif bal -pr[idx] <0:\n",
        "\t\t\tbreak\n",
        "\t\t\n",
        "\t\tUt += ut[idx]\n",
        "\t\tbal += -pr[idx]\n",
        "\t\t\n",
        "\t\t# Add item to count tracker \n",
        "\t\tif itm in bag:\n",
        "\t\t\tbag[itm] += 1\n",
        "\t\telse:\n",
        "\t\t\tbag[itm] = 1\n",
        "\t\t\n",
        "\t\t# Update constraint tracker\n",
        "\t\tif itm in tConstraint:\n",
        "\t\t\tntrack += 1\n",
        "\t\t\t\n",
        "\t\t\t# remove constraint item if constraint is met\n",
        "\t\t\tif ntrack == nConstraint:\n",
        "\t\t\t\ttg2 = [i for i in tg if i != tConstraint]\n",
        "\t\t\t\tntrack = 0\n",
        "\t\t\n",
        "\t\ttrack2 +=1\n",
        "\t\tif track2 == 500:\n",
        "\t\t\tbreak\n",
        "\t\t\n",
        "\treturn bag, round(Ut, 3), round(bal, 3)\n",
        "\t\n",
        "# Debug / Test\n",
        "for i in range(10):\n",
        "\tprint(i, add_to_bag(things, pr, ut, B=10, constraint = ['eraser', 3]))\n",
        "\t\n",
        "\n",
        "\t\n",
        "\t"
      ],
      "execution_count": 0,
      "outputs": [
        {
          "output_type": "stream",
          "text": [
            "0 ({'pen': 7, 'eraser': 3, 'pencil': 5, 'ruler': 1}, 10.0, 0.4)\n",
            "1 ({'ruler': 5, 'pencil': 8, 'pen': 3, 'eraser': 2}, 9.0, 0.0)\n",
            "2 ({'ruler': 2, 'pen': 9, 'eraser': 3, 'pencil': 1}, 9.4, 0.2)\n",
            "3 ({'pencil': 6, 'eraser': 3, 'ruler': 6, 'pen': 3}, 8.4, 0.1)\n",
            "4 ({'pen': 8, 'ruler': 1, 'eraser': 3, 'pencil': 4}, 10.2, 0.1)\n",
            "5 ({'pencil': 7, 'eraser': 3, 'ruler': 4, 'pen': 4}, 9.4, 0.0)\n",
            "6 ({'pencil': 5, 'pen': 6, 'ruler': 3, 'eraser': 3}, 9.6, 0.0)\n",
            "7 ({'eraser': 3, 'pencil': 6, 'ruler': 2, 'pen': 6}, 10.0, 0.1)\n",
            "8 ({'pen': 5, 'ruler': 5, 'pencil': 4, 'eraser': 3}, 8.6, 0.1)\n",
            "9 ({'pen': 4, 'ruler': 4, 'eraser': 3, 'pencil': 7}, 9.4, 0.0)\n"
          ],
          "name": "stdout"
        }
      ]
    },
    {
      "metadata": {
        "id": "Z8Zf8jy2YD_N",
        "colab_type": "text"
      },
      "cell_type": "markdown",
      "source": [
        "Looks like the code for one simulation works. Now we can build another function to iterate the simulation above.\n",
        "```"
      ]
    },
    {
      "metadata": {
        "id": "j_uhATmCCJSc",
        "colab_type": "code",
        "colab": {}
      },
      "cell_type": "code",
      "source": [
        "def iter_add_to_bag(tg, pr, ut, B, constraint, iter=1000):\n",
        "\tmaxU = 0\n",
        "\tmaxBag = 0\n",
        "\tminB = 0\n",
        "\tmaxBag_dict = {}\n",
        "\t\n",
        "\tfor i in range(iter):\n",
        "\t\tbag1, ut1, B1 = add_to_bag(tg, pr, ut, B, constraint)\n",
        "\t\t\n",
        "\t\tif ut1 > maxU:\n",
        "\t\t\tmaxBag_dict[str(i)]= [bag1, ut1, B1]\n",
        "\t\t\tmaxU = ut1\n",
        "\t\t\tmaxBag = bag1\n",
        "\t\t\tminB = B1\n",
        "\t\telif ut1 == maxU:\n",
        "\t\t\tmaxBag_dict[str(i)]= [bag1, ut1, B1]\n",
        "\t\n",
        "\treturn maxU, maxBag, minB, maxBag_dict\n",
        "\n",
        "# For Reporting\n",
        "\n",
        "def print_report(con, maxBag, minB, maxBag_d):\n",
        "    if con[0] in things:\n",
        "        print(f'*** Combination with the most utility with constraint: maximum {con[1]} {con[0]} ***\\n')\n",
        "    else:\n",
        "        print(f'*** Combination with the most utility with NO constraint ***\\n')\n",
        "    for keys in maxBag.keys():\n",
        "        print(f'{keys} : {maxBag[keys]}')\n",
        "    print(f'Utility = {maxU}, \\tBudget Left = {minB}')\n",
        "    print(f'\\n*** Other Combinations ***\\n')\n",
        "    for keys1 in maxBag_d.keys():\n",
        "        if maxBag_d[keys1][1] >= maxU:\n",
        "            bagk = maxBag_d[keys1][0]\n",
        "            for k in bagk.keys():\n",
        "                print(f'{k} : {bagk[k]}')\n",
        "            print(f'Utility = {maxBag_d[keys1][1]}, \\tBudget Left = {maxBag_d[keys1][2]}\\n')\n"
      ],
      "execution_count": 0,
      "outputs": []
    },
    {
      "metadata": {
        "id": "vjyAVrlaaGg0",
        "colab_type": "text"
      },
      "cell_type": "markdown",
      "source": [
        "We can now simulate over a number of iterations. By default we will do this 1000 times (imagine having to this repeatedly.. 1000 times!). In general, the more iterations, the better results will be produced, **but** at a higher computation costs. However, 1000 iterations can be easily managed by decent computer/internet connection. We will constraint buying more than 2 erasers."
      ]
    },
    {
      "metadata": {
        "id": "nKhkyRZ5aCqn",
        "colab_type": "code",
        "outputId": "e1f3a5eb-8ab4-4685-a89e-4967f8fd981d",
        "colab": {
          "base_uri": "https://localhost:8080/",
          "height": 255
        }
      },
      "cell_type": "code",
      "source": [
        "con = ['eraser', 2]\n",
        "\n",
        "maxU, maxBag, minB, maxBag_d = iter_add_to_bag(things, pr, ut, B, con)\n",
        "\n",
        "print_report(con, maxBag, minB, maxBag_d)\n",
        "\n"
      ],
      "execution_count": 0,
      "outputs": [
        {
          "output_type": "stream",
          "text": [
            "*** Combination with the most utility with constraint: maximum 2 eraser ***\n",
            "\n",
            "pencil : 9\n",
            "pen : 6\n",
            "eraser : 2\n",
            "Utility = 11.0, \tBudget Left = 0.1\n",
            "\n",
            "*** Other Combinations ***\n",
            "\n",
            "pencil : 9\n",
            "pen : 6\n",
            "eraser : 2\n",
            "Utility = 11.0, \tBudget Left = 0.1\n",
            "\n"
          ],
          "name": "stdout"
        }
      ]
    },
    {
      "metadata": {
        "id": "JJghqaLTa2bp",
        "colab_type": "text"
      },
      "cell_type": "markdown",
      "source": [
        "Since it is a simulation of picking and packing the items a number of times, there will be repeated combinations. And as expected, there will tend to have pens and pencils because we have more utility. If one is constraint, the other will increase. As shown below."
      ]
    },
    {
      "metadata": {
        "id": "cndu8czNaVFz",
        "colab_type": "code",
        "outputId": "cf24339c-2099-4ddb-d61f-9359add12e32",
        "colab": {
          "base_uri": "https://localhost:8080/",
          "height": 289
        }
      },
      "cell_type": "code",
      "source": [
        "con = ['pen', 2]\n",
        "\n",
        "maxU, maxBag, minB, maxBag_d = iter_add_to_bag(things, pr, ut, B, con)\n",
        "\n",
        "print_report(con, maxBag, minB, maxBag_d)\n"
      ],
      "execution_count": 0,
      "outputs": [
        {
          "output_type": "stream",
          "text": [
            "*** Combination with the most utility with constraint: maximum 2 pen ***\n",
            "\n",
            "eraser : 5\n",
            "ruler : 2\n",
            "pencil : 11\n",
            "pen : 2\n",
            "Utility = 11.2, \tBudget Left = 0.0\n",
            "\n",
            "*** Other Combinations ***\n",
            "\n",
            "eraser : 5\n",
            "ruler : 2\n",
            "pencil : 11\n",
            "pen : 2\n",
            "Utility = 11.2, \tBudget Left = 0.0\n",
            "\n"
          ],
          "name": "stdout"
        }
      ]
    },
    {
      "metadata": {
        "id": "ZdnkHhONbWgM",
        "colab_type": "text"
      },
      "cell_type": "markdown",
      "source": [
        "We ended up buying 11 pencils!\n",
        "\n",
        "The following is the combination if there is NO constraints. Note that for unconstraint case, simply pass a string with no useful information, or pass an item not (or a variation of it)in the original 4.\n",
        "\n",
        "We ended buying more erasers because they are cheap and the utility per dollar is quite high."
      ]
    },
    {
      "metadata": {
        "id": "r0sAAMzcbS-w",
        "colab_type": "code",
        "outputId": "8d400186-fc78-4422-917a-8cd1b069dcc6",
        "colab": {
          "base_uri": "https://localhost:8080/",
          "height": 255
        }
      },
      "cell_type": "code",
      "source": [
        "con = ['', 0]\n",
        "\n",
        "maxU, maxBag, minB, maxBag_d = iter_add_to_bag(things, pr, ut, B, con)\n",
        "\n",
        "print_report(con, maxBag, minB, maxBag_d)"
      ],
      "execution_count": 0,
      "outputs": [
        {
          "output_type": "stream",
          "text": [
            "*** Combination with the most utility with NO constraint ***\n",
            "\n",
            "eraser : 13\n",
            "pencil : 7\n",
            "pen : 3\n",
            "Utility = 11.8, \tBudget Left = 0.2\n",
            "\n",
            "*** Other Combinations ***\n",
            "\n",
            "eraser : 13\n",
            "pencil : 7\n",
            "pen : 3\n",
            "Utility = 11.8, \tBudget Left = 0.2\n",
            "\n"
          ],
          "name": "stdout"
        }
      ]
    },
    {
      "metadata": {
        "id": "aKf8MmUidHJ2",
        "colab_type": "text"
      },
      "cell_type": "markdown",
      "source": [
        "## Conclusion\n",
        "\n",
        "This guide have  discussed the basic blocks of writing a functional code:\n",
        "1. Data types and structures\n",
        "2. Functions\n",
        "3. Iterations/Loops\n",
        "\n",
        "Here are some of the things to note (thought of on the fly while the above code was written):\n",
        "- Always start with an end in mind. Map the steps (written or otherwise) before starting. Sometimes multiple steps will be involved and the steps may inter-link so the coding will get complicated. There you have it, an algorithm!\n",
        "- Name variables meaningfully, it helps with debugging. Remember that variables cannot start with a number. e.g. 1vox is not allowed, but vox1 is.\n",
        "- Sometimes performing simulation is better than doing statistical test or coming out with fancy mathematical model. If the relationship between variables are too complex to map, simulate! \n",
        "    - Statistics by simulation is called 'Hacker Statistics'. Because of the power of the modern CPU this branch of statistics is getting popular.\n",
        "\n",
        "## Afterthought\n",
        "The case study only looked at one constraints. Of course it is possible to have multiple constraints. Can you think of how to write it? However, with each added constraint it will require more conditions to be set. Nevertheless, we should always think how to make our code cleaner by asking \n",
        "\n",
        ">>> **Can we do better?**\n",
        "\n",
        "### The End\n",
        "R0: 2019-03-08\n",
        "\n"
      ]
    }
  ]
}
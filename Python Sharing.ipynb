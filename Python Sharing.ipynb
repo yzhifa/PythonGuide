{
 "cells": [
  {
   "cell_type": "markdown",
   "metadata": {},
   "source": [
    "## Introduction\n",
    "\n",
    "Python is a object-oriented programming (OOP) language. It is the top progamming language in 2021 ([source](https://spectrum.ieee.org/top-programming-languages-2021)).\n",
    "\n",
    "It was first release in 20 February 1991, some 31 years ago! You can read more about it in [Wikipedia](https://en.wikipedia.org/wiki/Python_(programming_language).\n",
    "\n",
    "Python's Main Page - [https://www.python.org](https://www.python.org/)\n",
    "\n",
    "#### Hassle-free ways to get Python:\n",
    "1. [ANACONDA distribution](https://www.anaconda.com/products/distribution)\n",
    "    - Installation also comes with the popular data science packages installed. Comes with other cool programmes and features, including Jupyter Notebook, the medium that this notes are written with.\n",
    "    \n",
    "2. [Google Colaboratory](https://colab.research.google.com/)\n",
    "    - Installation free but need a Google account.\n",
    "    \n",
    "3. [Microsoft Visual Studio Code + Python Plugin](https://code.visualstudio.com/)\n",
    "    - One of the popular development software and also packed with features, but may need to to install packages separately.\n",
    "    \n",
    "#### An Interpreted Language\n",
    "Python is an interpreted language (the opposite is compiled language, like C or C++), this means that the code is executed, it is passed through an interpreter before being translated/compiled into a machine language. This means that Python codes can be run directly without a compilation step. The trade off is a performance - Python's performance is inferior to that of a compiled language like C or C++.\n",
    "\n",
    "However, Python's syntax is simple and elegant, making it one of the popular choices for quick prototyping for proof of concepts.\n",
    "\n",
    "\n",
    "#### Indentations, White Spaces and Blocks\n",
    "\n",
    "White spaces are important in Python's syntax as they define code blocks, for example:\n",
    "\n",
    "```python\n",
    "    for i in range(5):\n",
    "        print(i)\n",
    "```\n",
    "\n",
    "Condition flows, iteration and functions are defined within a code block. Each code block is defined by an identation - by a \"tab\" key or 4 spaces.\n",
    "\n",
    "#### Iterables and Mutables\n",
    "Objects in Python have iterability and mutability. \n",
    "- Iterables are objects that can be (drum roll.. ) iterated. That means the items can be called out individually via iteration (a later discussion), or slicing and indexing (also a later discussion).\n",
    "- Mutables are objects that can have its constituents changed.\n",
    "\n",
    "#### Index Starts From 0\n",
    "Position number of an iterable starts from 0 - that is, the position count starts from 0 in Python."
   ]
  },
  {
   "cell_type": "code",
   "execution_count": 1,
   "metadata": {},
   "outputs": [
    {
     "name": "stdout",
     "output_type": "stream",
     "text": [
      "0 1 2 3 4 "
     ]
    }
   ],
   "source": [
    "# Index starts from 0\n",
    "\n",
    "for i in range(5):\n",
    "    print(i, end = \" \")\n",
    "\n",
    "# Additional notes: \n",
    "# 1) A \"#\" sign denotes a comment. Comments are not processed/intepreted/compiled when the code is run.\n",
    "# 2) Strings can be written with a pair of \" \" or  ' '.\n",
    "# 3) range() and print() are functions."
   ]
  },
  {
   "cell_type": "markdown",
   "metadata": {},
   "source": [
    "#### Methods and Attributes\n",
    "Methods are functions that are associated to an object. \n",
    "- The function `com()` associated to an object `X` is written as `X.com()`.\n",
    "- Example: `Square.Area()` invokes the function `Area()` associated to the object `Square`.\n",
    "\n",
    "Attributes are charateristics to an object.\n",
    "- The characteristic `com` of object `X` is written as `X.com`.\n",
    "- Example: `Rectangle.Length` calls out the characteristic `Length` of the object `Rectangle`.\n",
    "\n",
    "Methods and attributes are defined when defining an object. More about this in the discussion about *classes*.\n",
    "\n",
    "#### Resources\n",
    "1. [Automate the Boring Stuff with Python](https://automatetheboringstuff.com/) is a very good resource!\n",
    "\n",
    "\n",
    "#### Contents\n",
    "\n",
    "The key points of the following topics are shared in the subsequent sections:\n",
    "- Data structures\n",
    "- Conditions and Flows\n",
    "- Loops and Iterations\n",
    "- Functions\n",
    "- Tips and Tricks\n",
    "\n",
    "\n",
    "\n",
    "---------"
   ]
  },
  {
   "cell_type": "markdown",
   "metadata": {},
   "source": [
    "## Data Structures\n",
    "\n",
    "Data structures are about the organisation of data. Often, the choice of data structures (and data types, not covered here) have implications on the choice of the algorithms that can be used, and also the speed and memory usage of the programme. Only the basic and common data structures are introduced here:\n",
    "- Lists\n",
    "- Dictionaries\n",
    "- Tuple\n",
    "- Sets"
   ]
  },
  {
   "cell_type": "markdown",
   "metadata": {},
   "source": [
    "#### Lists\n",
    "\n",
    "Key points:\n",
    "- Lists are indexed arrays, meaning each element in a list have a position number (indexed at 0).\n",
    "- Lists' elements are bounded within a pair of \"[  ]\" brackets and each element is separated by a comma.\n",
    "- Lists' elements can be other different data types or data structures.\n",
    "- Lists are iterable and mutable."
   ]
  },
  {
   "cell_type": "code",
   "execution_count": 2,
   "metadata": {},
   "outputs": [
    {
     "name": "stdout",
     "output_type": "stream",
     "text": [
      "[5, 6, 7, 8]\n"
     ]
    }
   ],
   "source": [
    "# A list\n",
    "a = [5, 6, 7, 8]\n",
    "print(a)\n",
    "\n",
    "# Additional notes:\n",
    "# 1) A \"=\" denotes assignment, while a \"==\" denotes equality."
   ]
  },
  {
   "cell_type": "code",
   "execution_count": 3,
   "metadata": {},
   "outputs": [
    {
     "data": {
      "text/plain": [
       "5"
      ]
     },
     "execution_count": 3,
     "metadata": {},
     "output_type": "execute_result"
    }
   ],
   "source": [
    "# A list is an indexed array\n",
    "a[0]\n",
    "\n",
    "# Additional notes:\n",
    "# 1)  A pair of [ ] brackets is used to slice an iterable object. \n",
    "# 2) The index of the element is called out within the brackets."
   ]
  },
  {
   "cell_type": "code",
   "execution_count": 4,
   "metadata": {},
   "outputs": [
    {
     "data": {
      "text/plain": [
       "0"
      ]
     },
     "execution_count": 4,
     "metadata": {},
     "output_type": "execute_result"
    }
   ],
   "source": [
    "# The index of an element can also be known by using the .index() method.\n",
    "a.index(5)"
   ]
  },
  {
   "cell_type": "code",
   "execution_count": 5,
   "metadata": {},
   "outputs": [
    {
     "name": "stdout",
     "output_type": "stream",
     "text": [
      "5 6 7 8 "
     ]
    }
   ],
   "source": [
    "# Lists can be iterated\n",
    "for i in a:\n",
    "    print(i, end=\" \")"
   ]
  },
  {
   "cell_type": "code",
   "execution_count": 6,
   "metadata": {},
   "outputs": [
    {
     "name": "stdout",
     "output_type": "stream",
     "text": [
      "['5', 6, 7, 8]\n"
     ]
    }
   ],
   "source": [
    "# Lists are mutable, i.e. its element can be changed\n",
    "a[0] = '5'\n",
    "\n",
    "print(a)\n",
    "\n",
    "# Additional notes:\n",
    "# 1) This also shows that a list can house different data types\n",
    "# 2) Now, the element at index 0 is a string, instead of an integer"
   ]
  },
  {
   "cell_type": "markdown",
   "metadata": {},
   "source": [
    "###### Common Lists Operations\n",
    "Let ```L``` denote a list object.\n",
    "\n",
    "1. Finding the number of elements in a list: `len(L)`\n",
    "2. Sorting a list: `sorted(L)` (integer or number data types only)\n",
    "3. Append a new element to a list: `L.append()`\n",
    "4. Joining lists: `L + L`\n",
    "5. Calling the last element of the list, and remove it: `L.pop()`"
   ]
  },
  {
   "cell_type": "code",
   "execution_count": 7,
   "metadata": {},
   "outputs": [
    {
     "name": "stdout",
     "output_type": "stream",
     "text": [
      "\n",
      "1. The number of elements in list L: 4\n",
      "2. Sorting L: [1, 2, 9, 11]\n",
      "\n",
      "3. Append an element to L: [11, 2, 9, 1, 1000]\n",
      "4. Adding lists: [11, 2, 9, 1, 1000, 11, 2, 9, 1, 1000]\n",
      "5. Popping a list: 1000\n",
      "6. Final L (after popping): [11, 2, 9, 1]\n"
     ]
    }
   ],
   "source": [
    "# Example: Common Lists Operations\n",
    "L = [11, 2, 9, 1]\n",
    "\n",
    "print(f'''\n",
    "1. The number of elements in list L: {len(L)}\n",
    "2. Sorting L: {sorted(L)}''')\n",
    "\n",
    "# Append an element to L\n",
    "L.append(1000)\n",
    "\n",
    "print(f'''\n",
    "3. Append an element to L: {L}\n",
    "4. Adding lists: {L + L}\n",
    "5. Popping a list: {L.pop()}\n",
    "6. Final L (after popping): {L}''')\n",
    "\n",
    "# Additional notes:\n",
    "# 1) Block text is written within the ''' ''' marks. These are also called docstrings.\n",
    "# 2) the \"f\" in front of the text followed by a string is call a f-string.\n",
    "# 3) Expressions/code within the { } brackets in the f-string are executed when the code is run.\n",
    "# 4) .append() method happens in-place. Even with when assign to a new variable (try it!)."
   ]
  },
  {
   "cell_type": "markdown",
   "metadata": {},
   "source": [
    "###### More on Slicing and Dicing of Lists\n",
    "\n",
    "Let `L` denote a list object.\n",
    "\n",
    "1. `L[x]` returns the element at index `x`.\n",
    "2. `L[a:b]` returns the elements starting from (and including) index `a`and up to (and excluding) index `b`.\n",
    "3. `L[:b]` returns the elements between index 0 (inclusive) and index `b` (exclusive).\n",
    "4. `L[::-1]` reverses the list."
   ]
  },
  {
   "cell_type": "code",
   "execution_count": 8,
   "metadata": {},
   "outputs": [
    {
     "name": "stdout",
     "output_type": "stream",
     "text": [
      "\n",
      "1. Return index 3 (4th element) in L: 1\n",
      "2. Return elements between indices 1 and 3 (a=1, b=3): [2, 9]\n",
      "3. Return elements up to index 2: [11, 2]\n",
      "4. Reverse the list: [1, 9, 2, 11]\n",
      "\n"
     ]
    }
   ],
   "source": [
    "# Example: More on Slicing and Dicing of Lists\n",
    "L = [11, 2, 9, 1]\n",
    "\n",
    "print(f'''\n",
    "1. Return index 3 (4th element) in L: {L[3]}\n",
    "2. Return elements between indices 1 and 3 (a=1, b=3): {L[1:3]}\n",
    "3. Return elements up to index 2: {L[:2]}\n",
    "4. Reverse the list: {L[::-1]}\n",
    "''')"
   ]
  },
  {
   "cell_type": "markdown",
   "metadata": {},
   "source": [
    "*Think about:*\n",
    "- What does `L[:]` mean?\n",
    "- How to return the last element?\n",
    "- How to return every other element?\n"
   ]
  },
  {
   "cell_type": "markdown",
   "metadata": {},
   "source": [
    "#### Dictionaries\n",
    "\n",
    "Key points\n",
    "- Dictionaries are collection of key-value elements, encased in a { } brackets. `{k:v}`\n",
    "- Dictionaries are a type of hashed table, and hence is superior in searching and mappings.\n",
    "- Keys (*k*) of dictionaries must be *immutable* objects: e.g. strings, numbers. They are also not indexed.\n",
    "- Values (*v*) of dictionaries can be of any data type or data structure.\n",
    "- Data stored in a dictionary can be exported as a \"pickled\" file using the package `pickle`.\n",
    "\n",
    "###### Common Dictionary Operations:\n",
    "Let ```D``` denote a dictionary with keys *k* and values *v*.\n",
    "1. Retrieving the value of a key: `D[k]` (looks like a kind of slicing)\n",
    "2. Adding elements: `D[k] = v`\n",
    "3. Keys of a dictionary: `D.keys()`"
   ]
  },
  {
   "cell_type": "code",
   "execution_count": 9,
   "metadata": {},
   "outputs": [
    {
     "name": "stdout",
     "output_type": "stream",
     "text": [
      "A dictionary:  {'a': 1, 'b': 2}\n",
      "\n",
      "1. Retrieving the value of key b: 1\n",
      "2. New D after adding new element: {'a': 1, 'b': 2, 'c': 3}\n",
      "3. Keys of dictionary D: dict_keys(['a', 'b', 'c'])\n"
     ]
    }
   ],
   "source": [
    "# Example: Common Dictionary Operations\n",
    "D = {'a':1, 'b':2}\n",
    "\n",
    "print('A dictionary: ', D)\n",
    "\n",
    "print(f'''\n",
    "1. Retrieving the value of key b: {D[\"a\"]}''')\n",
    "\n",
    "# Add element c with value 3: \n",
    "D[\"c\"] = 3\n",
    "\n",
    "print(f'''2. New D after adding new element: {D}\n",
    "3. Keys of dictionary D: {D.keys()}''')"
   ]
  },
  {
   "cell_type": "markdown",
   "metadata": {},
   "source": [
    "#### Tuple\n",
    "\n",
    "Key points:\n",
    "1. Tuples allows \"packing\" of multiple data into a single variable.\n",
    "2. Elements in a tuple are encased in a ( ) brackets.\n",
    "3. Tuples are like Lists, but they are *immutable*.\n",
    "\n",
    "###### Common Tuple Operations\n",
    "\n",
    "Let `Tu` denote a tuple.\n",
    "\n",
    "1. Find the number of elements in a tuple: `len(Tu)`\n",
    "2. Slicing and dicing of tuples: `Tu[a:b]` (similar to lists)\n",
    "3. Tuples can be \"unpacked\".\n"
   ]
  },
  {
   "cell_type": "code",
   "execution_count": 10,
   "metadata": {},
   "outputs": [
    {
     "name": "stdout",
     "output_type": "stream",
     "text": [
      "A tuple:  (1, 3, 4, 6)\n",
      "1. Number of elements in tuple Tu:  4\n",
      "2. Tuples between index 2 and 4:  (4, 6)\n",
      "3. Unpacking a tuple, sample a:  1\n"
     ]
    }
   ],
   "source": [
    "# Example: Common Tuple Operations\n",
    "Tu = 1, 3, 4, 6\n",
    "\n",
    "print('A tuple: ', Tu)\n",
    "\n",
    "print('1. Number of elements in tuple Tu: ', len(Tu))\n",
    "print('2. Tuples between index 2 and 4: ', Tu[2:4])\n",
    "\n",
    "# Upacking a tuple\n",
    "a, b, c, d = Tu\n",
    "\n",
    "print('3. Unpacking a tuple, sample a: ', a)\n",
    "\n",
    "# Additional notes:\n",
    "# 1) As shown, the brackets are optional in assigning a tuple. \n",
    "#    However, it is encouraged to include them for readability.\n",
    "# 2) When unpacking a tuple, the number of elements assigned must be equal to the number of elements in the tuple.\n",
    "# 3) As with lists, a tuple can be reversed too.'''"
   ]
  },
  {
   "cell_type": "code",
   "execution_count": 11,
   "metadata": {},
   "outputs": [
    {
     "name": "stdout",
     "output_type": "stream",
     "text": [
      "'tuple' object does not support item assignment\n"
     ]
    }
   ],
   "source": [
    "# A tuple is immutable - The following code will return an error.\n",
    "Tu = (1, 3, 4, 6)\n",
    "\n",
    "try:\n",
    "    Tu[0] = 0\n",
    "except Exception as e:\n",
    "    print(e)\n",
    "    \n",
    "# Additional notes:\n",
    "# 1) the try-except code blocks are for error handling. \n",
    "# While it is important, it is beyond the scope of this discussion."
   ]
  },
  {
   "cell_type": "markdown",
   "metadata": {},
   "source": [
    "###### More on Tuple Unpacking\n",
    "The following shows other ways that a tuple can be unpacked."
   ]
  },
  {
   "cell_type": "code",
   "execution_count": 12,
   "metadata": {},
   "outputs": [
    {
     "name": "stdout",
     "output_type": "stream",
     "text": [
      "Example 1:  a =  1 , c =  3\n"
     ]
    }
   ],
   "source": [
    "Tu = (1, 2, 3)\n",
    "# Other ways a tuple can be unpacked - 1\n",
    "a, _, c = Tu\n",
    "\n",
    "print('Example 1: ', 'a = ', a, ', c = ', c)\n",
    "\n",
    "# Additional notes:\n",
    "# 1) A \"_\" can be used to \"skip\" an element. \"_\" is an empty assignment."
   ]
  },
  {
   "cell_type": "code",
   "execution_count": 13,
   "metadata": {},
   "outputs": [
    {
     "name": "stdout",
     "output_type": "stream",
     "text": [
      "Example 2:  a =  1 , d =  [2, 3]\n"
     ]
    }
   ],
   "source": [
    "# Other ways a tuple can be unpacked - 2\n",
    "a, *d = Tu\n",
    "\n",
    "print('Example 2: ', 'a = ', a, ', d = ', d)\n",
    "\n",
    "# Additional notes:\n",
    "# 1) The \"*\" notation means that any remaining elements are packed into a list. It is called the star assignment.\n",
    "# 2) Only ONE star assignment is allowed."
   ]
  },
  {
   "cell_type": "markdown",
   "metadata": {},
   "source": [
    "*Think about:*\n",
    "1. If tuples are immutable, why is reversing `Tu[::-1]` allowed?\n",
    "2. What happens if we do this: `*d, a = Tu`?\n",
    "3. Can tuples be iterated?"
   ]
  },
  {
   "cell_type": "markdown",
   "metadata": {},
   "source": [
    "#### Sets\n",
    "\n",
    "Key points:\n",
    "- Sets are arrays with unique (or distinct) elements. Elements are encased within the { } brackets.\n",
    "- Use to return only unique elements."
   ]
  },
  {
   "cell_type": "code",
   "execution_count": 14,
   "metadata": {},
   "outputs": [
    {
     "name": "stdout",
     "output_type": "stream",
     "text": [
      "A Set:  {1, 2}\n",
      "set(L) =  {1, 2}\n"
     ]
    }
   ],
   "source": [
    "# Sets\n",
    "S = {1, 1, 1, 2, 2, 2}\n",
    "\n",
    "print('A Set: ', S)\n",
    "\n",
    "# set() applyied on lists\n",
    "L = [1, 1, 1, 2, 2, 2]\n",
    "SL = set(L)\n",
    "\n",
    "print('set(L) = ', SL)\n",
    "\n",
    "# set() applied on tuples\n",
    "Tu = (1, 1, 1, 2, 2, 2)\n",
    "STu = set(Tu)\n",
    "\n",
    "# Additional notes:\n",
    "# 1) Likewise, there is a list() to create lists."
   ]
  },
  {
   "cell_type": "markdown",
   "metadata": {},
   "source": [
    "*Think about:*\n",
    "1. Are sets iterable?\n",
    "2. Can sets be unpacked?"
   ]
  },
  {
   "cell_type": "markdown",
   "metadata": {},
   "source": [
    "----------------"
   ]
  },
  {
   "cell_type": "markdown",
   "metadata": {},
   "source": [
    "## Conditions and Flows\n",
    "\n",
    "#### Comparators\n",
    "1. `>` is greater than\n",
    "2. `>=` is greater than or equals to\n",
    "3. `<` is less than\n",
    "4. `<=` is less than or equals to\n",
    "5. `!=` is not equal to\n",
    "6. `==` is equal to\n",
    "\n",
    "\n",
    "#### Operators\n",
    "1. `and` or `&` - all conditions must be met to be true. The formal returns `True` while the latter returns `1`.\n",
    "2. `or` or `|` - at least one condition met to be true. The formal returns `True` while the latter returns `1`.\n",
    "\n",
    "*Note: the list above is not exhaustive*"
   ]
  },
  {
   "cell_type": "code",
   "execution_count": 15,
   "metadata": {},
   "outputs": [
    {
     "name": "stdout",
     "output_type": "stream",
     "text": [
      "a == b is False\n",
      "a > b is False\n",
      "a <= b is True\n",
      "a != b is True\n"
     ]
    }
   ],
   "source": [
    "# Comparators\n",
    "a = 1\n",
    "b = 2\n",
    "c = 3\n",
    "\n",
    "print('a == b is', a == b)\n",
    "print('a > b is', a > b)\n",
    "print('a <= b is', a <= b)\n",
    "print('a != b is', a != b)\n"
   ]
  },
  {
   "cell_type": "code",
   "execution_count": 16,
   "metadata": {},
   "outputs": [
    {
     "name": "stdout",
     "output_type": "stream",
     "text": [
      "(a and c) == c is False\n",
      "a & c == c is False\n",
      "a or c == c is False\n",
      "a | c == c is True\n",
      "a and c == a & c is False  -- why?\n"
     ]
    }
   ],
   "source": [
    "# Operators\n",
    "\n",
    "a = 1\n",
    "b = 2\n",
    "c = 3\n",
    "\n",
    "print('(a and c) == c is', (a and b) == c )\n",
    "print('a & c == c is', (a & c) == c)\n",
    "print('a or c == c is', (a or c) == c)\n",
    "print('a | c == c is', (a | c) == c)\n",
    "\n",
    "print('a and c == a & c is', (a and c) == (a & c), ' -- why?')\n",
    "\n",
    "# Additional notes:\n",
    "# 1) While not necessary, it is a good practice to group conditionals in brackets."
   ]
  },
  {
   "cell_type": "markdown",
   "metadata": {},
   "source": [
    "#### Conditional Statements\n",
    "\n",
    "A condition statement directs a process to one that satisfies a condition, or rule. They can be written in 3 ways in Python:\n",
    "\n",
    "1. `if` statement only\n",
    "    - This is usually used to change the state or value of a variable.\n",
    "    \n",
    "    ```python\n",
    "    if <some condition>:\n",
    "        <do some operation>\n",
    "    ```\n",
    "\n",
    "2. `if-else` statement\n",
    "    - This is usually used if there an alternative operation is intended.\n",
    "    \n",
    "    ```python\n",
    "    if <some condition>:\n",
    "        <do this>\n",
    "    else:\n",
    "        <do that>\n",
    "    ```\n",
    "\n",
    "3. `if-elif-else` statement\n",
    "    - This is an extended version of 2.\n",
    "    - `elif` is \"else if\", a condition is required following this.\n",
    "    - Some \"AI\" engines are run on this.\n",
    "    \n",
    "    ```python\n",
    "    if <some condition 1>:\n",
    "        <do some operation 1>\n",
    "    elif <some condition 2>:\n",
    "        <do some operation 2>\n",
    "    ...\n",
    "    elif <some condition n>:\n",
    "        <do some operation n>\n",
    "    else:\n",
    "        <do this>\n",
    "    ```\n"
   ]
  },
  {
   "cell_type": "code",
   "execution_count": 17,
   "metadata": {},
   "outputs": [
    {
     "name": "stdout",
     "output_type": "stream",
     "text": [
      "1. Output for a if-statement.\n",
      "\n",
      "2. Output for a if-else statement.\n",
      "The number is odd.\n",
      "\n",
      "3. Output for a if-elif-else statement.\n",
      "The number is odd and is a multiple of 3.\n"
     ]
    }
   ],
   "source": [
    "# A very simple example: Conditional Statements\n",
    "# To check if a number is an even number.\n",
    "\n",
    "a = 33\n",
    "\n",
    "print('1. Output for a if-statement.')\n",
    "\n",
    "if a%2==0:\n",
    "    print('The number is even.')\n",
    "    \n",
    "print('\\n2. Output for a if-else statement.')\n",
    "\n",
    "if a%2==0:\n",
    "    print('The number is even.')\n",
    "else:\n",
    "    print('The number is odd.')\n",
    "    \n",
    "print('\\n3. Output for a if-elif-else statement.')\n",
    "\n",
    "if a%2==0:\n",
    "    print('The number is even.')\n",
    "elif a%3==0:\n",
    "    print('The number is odd and is a multiple of 3.')\n",
    "else:\n",
    "    print('The number is odd and is not a multiple of 3.')\n",
    "    \n",
    "# Additional notes:\n",
    "# 1) The % is the mod operator. It evaluates a division and returns the remainder.\n",
    "# 2) Notice there is no output if the condition is not met for Case 1."
   ]
  },
  {
   "cell_type": "markdown",
   "metadata": {},
   "source": [
    "------------------"
   ]
  },
  {
   "cell_type": "markdown",
   "metadata": {},
   "source": [
    "## Loops and Iterations\n",
    "\n",
    "One of the advantages of computers is that it can be asked to do a task repeatedly, example performing multiple computations. This is usually achieved by using iterations. \n",
    "\n",
    "There are two types of loops in Python:\n",
    "\n",
    "#### *for* Loops\n",
    "- A `for` loop requires a iterable to define the number of iterations.\n",
    "- The loop ends when the number of iterations is exhausted\n",
    "    \n",
    "    ```python\n",
    "    for item in <some iterable>:\n",
    "        <do something>```\n",
    "    \n",
    "    The *item* represents an element in the iterable.\n",
    "    \n",
    "    \n",
    "#### *while* Loops\n",
    "- A `while` loop does not have a defined number of iterations; the iteration is performed so long as a condition is met. \n",
    "- Be careful when designing `while` loops because an infinite loop can occur. Avoid it unless absolutely necessary.\n",
    "    \n",
    "    ```python\n",
    "    while <some condition>:\n",
    "        <do something>\n",
    "        <change something associated to the condition>\n",
    "    ```\n",
    "    \n",
    "#### Stopping A Loop\n",
    "- A loop can be stopped using a conditional and `break`.\n",
    "- This is useful in minimizing consumption of computing resources and processing time.\n",
    "\n",
    "    ```python\n",
    "    for item in <some iterable>:\n",
    "        <do something>\n",
    "        \n",
    "        if <some condition>:\n",
    "            break\n",
    "    ```\n",
    "- Note the indentation and code blocks\n",
    "\n",
    "\n",
    "#### Continuing A Loop\n",
    "- `continue` can be used in error-handling to keep the loop going to the next iteration.\n",
    "\n",
    "###### Note\n",
    "*All loops \"syntaxes\" shown here will vary depending on use cases.*"
   ]
  },
  {
   "cell_type": "code",
   "execution_count": 18,
   "metadata": {},
   "outputs": [
    {
     "name": "stdout",
     "output_type": "stream",
     "text": [
      "0\n",
      "1\n",
      "2\n",
      "3\n",
      "4\n"
     ]
    }
   ],
   "source": [
    "# Examples 1 - for Loops\n",
    "\n",
    "for i in range(5):\n",
    "    print(i)\n",
    "    \n",
    "# Additional notes:\n",
    "# 1) range(n) is commonly used as a counter for iteration. n is th enumber of iterations and it starts from 0 and ends\n",
    "# at n-1."
   ]
  },
  {
   "cell_type": "code",
   "execution_count": 19,
   "metadata": {},
   "outputs": [
    {
     "name": "stdout",
     "output_type": "stream",
     "text": [
      "H\n",
      "e\n",
      "l\n",
      "l\n",
      "o\n",
      " \n",
      "W\n",
      "o\n",
      "r\n",
      "l\n",
      "d\n"
     ]
    }
   ],
   "source": [
    "# Examples 2 - for Loops\n",
    "\n",
    "for i in \"Hello World\":\n",
    "    print(i)\n",
    "    \n",
    "# Additional notes:\n",
    "# 1) A string is iterable.\n",
    "# 2) It is also possible to iterate using a list -- try it!"
   ]
  },
  {
   "cell_type": "code",
   "execution_count": 20,
   "metadata": {},
   "outputs": [
    {
     "name": "stdout",
     "output_type": "stream",
     "text": [
      "5\n",
      "4\n",
      "3\n",
      "2\n",
      "1\n"
     ]
    }
   ],
   "source": [
    "# Examples - while Loops\n",
    "\n",
    "i = 5\n",
    "\n",
    "while i > 0:\n",
    "    print(i)\n",
    "    i += -1\n",
    "    \n",
    "# Additional notes:\n",
    "# 1) Note how the while loop is structured: if line 7 is not present, the while loop will be an infinite loop.\n",
    "# 2) line 7 \"i += -1\" is the shorthand for \"i = i + 1\". This is equivalent to \" i -= 1\". "
   ]
  },
  {
   "cell_type": "code",
   "execution_count": 21,
   "metadata": {},
   "outputs": [
    {
     "name": "stdout",
     "output_type": "stream",
     "text": [
      "0\n",
      "1\n",
      "2\n"
     ]
    }
   ],
   "source": [
    "# Example - Stopping a loop\n",
    "\n",
    "for i in range(5):\n",
    "    \n",
    "    if i < 3:\n",
    "        print(i)\n",
    "    else:\n",
    "        break\n",
    "    \n",
    "# Additional notes:\n",
    "# 1) The iteration stops when i >= 3."
   ]
  },
  {
   "cell_type": "code",
   "execution_count": 22,
   "metadata": {},
   "outputs": [
    {
     "name": "stdout",
     "output_type": "stream",
     "text": [
      "0\n",
      "1\n",
      "2\n",
      "4\n"
     ]
    }
   ],
   "source": [
    "# Example - Continuing a loop\n",
    "\n",
    "for i in range(5):\n",
    "    if i == 3:\n",
    "        continue\n",
    "    else:\n",
    "        print(i)\n",
    "        \n",
    "# Additional notes:\n",
    "# 1) The iteration skips when i = 3."
   ]
  },
  {
   "cell_type": "markdown",
   "metadata": {},
   "source": [
    "--------------------"
   ]
  },
  {
   "cell_type": "markdown",
   "metadata": {},
   "source": [
    "## Functions\n",
    "\n",
    "Key points:\n",
    "- Functions are objects that contain a set of operations that can be re-used, bu invoking the corresponding arguments, or shared.\n",
    "- Functions are useful for iterative operations.\n",
    "- Syntax of a function:\n",
    "\n",
    "    ```python\n",
    "    def <function name>(<some arguments>):\n",
    "        <some operations involving the arguments>\n",
    "        return <some output>\n",
    "    ```\n",
    "- The arguments can be of any data type or structure, or even another function - they just have to be handled accordingly.\n",
    "- Default arguments are arguments with their values assigned when defining a function. They are optional when calling a function - their default values will be used, unless otherwise.\n",
    "- `return` is optional - a function will return `none` if it is not defined.\n",
    "- A function can have multiple outputs returned as a tuple.\n",
    "- A function returns itself in *recursion*, which is a topic beyond the scope of this scope.\n"
   ]
  },
  {
   "cell_type": "code",
   "execution_count": 23,
   "metadata": {},
   "outputs": [
    {
     "name": "stdout",
     "output_type": "stream",
     "text": [
      "Area of a rectangle with length = 2 and width = 4:  8\n"
     ]
    }
   ],
   "source": [
    "# Example - A simple function\n",
    "# Find the area of a rectangle\n",
    "\n",
    "def area_of_rect(length, width):\n",
    "    return length* width\n",
    "\n",
    "print('Area of a rectangle with length = 2 and width = 4: ', area_of_rect(2,4))"
   ]
  },
  {
   "cell_type": "code",
   "execution_count": 24,
   "metadata": {},
   "outputs": [
    {
     "name": "stdout",
     "output_type": "stream",
     "text": [
      "Area of a rectangle with length = 2, using default width:  4\n",
      "Area of a rectnagle with length = 6, width = 5:  30\n"
     ]
    }
   ],
   "source": [
    "# Example - A simple function with default value\n",
    "# Find the area of a rectangle\n",
    "\n",
    "def area_of_rect2(length, width=2):\n",
    "    return length* width\n",
    "\n",
    "print('Area of a rectangle with length = 2, using default width: ', area_of_rect2(2))\n",
    "\n",
    "print('Area of a rectnagle with length = 6, width = 5: ', area_of_rect2(6, 5))\n"
   ]
  },
  {
   "cell_type": "code",
   "execution_count": 25,
   "metadata": {},
   "outputs": [
    {
     "name": "stdout",
     "output_type": "stream",
     "text": [
      "Area of a rectangle with length = 8 and width = 7:  56\n",
      "Perimeter of a rectangle with length = 8 and width = 7:  30\n"
     ]
    }
   ],
   "source": [
    "# Example - A function returning multiple outputs\n",
    "# Find the area and perimeter of a rectangle\n",
    "\n",
    "def rect(length, width):\n",
    "    area = length*width\n",
    "    perimeter = (length + width) * 2\n",
    "    return area, perimeter\n",
    "\n",
    "area, perimeter = rect(8, 7)\n",
    "\n",
    "print('Area of a rectangle with length = 8 and width = 7: ', area)\n",
    "print('Perimeter of a rectangle with length = 8 and width = 7: ', perimeter)\n",
    "\n",
    "# Additional notes:\n",
    "# 1) This example also brought up a concept of scopes in programming."
   ]
  },
  {
   "cell_type": "markdown",
   "metadata": {},
   "source": [
    "#### Scopes\n",
    "- Variables that are defined within the function block, remains in the function block. They do not exist outside the function block.\n",
    "- Variables that are defined *outside* the function block will be called if the function involves it but not defined as one of the arguments (this is a bad coding practice, by the way).\n"
   ]
  },
  {
   "cell_type": "code",
   "execution_count": 26,
   "metadata": {},
   "outputs": [
    {
     "name": "stdout",
     "output_type": "stream",
     "text": [
      "For a=2, the function returns:  200\n",
      "value of a =  1\n",
      "name 'var_within_function' is not defined\n"
     ]
    }
   ],
   "source": [
    "# Example 1 - Scope\n",
    "# Variable defined within a function block\n",
    "\n",
    "def function_test(a):\n",
    "    var_within_function = a + 1\n",
    "    return a*100\n",
    "\n",
    "a = 1\n",
    "\n",
    "print('For a=2, the function returns: ', function_test(2))\n",
    "\n",
    "print('value of a = ', a)\n",
    "\n",
    "try:\n",
    "    print(var_within_function)\n",
    "except Exception as e:\n",
    "    print(e)\n",
    "\n",
    "# Additional notes:\n",
    "# 1) Note that a remains equals to 1 a defined. The variable a and argument a are different objects.\n",
    "# 2) var_within_function exists only in the function, hence returning an error"
   ]
  },
  {
   "cell_type": "code",
   "execution_count": 27,
   "metadata": {},
   "outputs": [
    {
     "name": "stdout",
     "output_type": "stream",
     "text": [
      "The above function wiht r = 2 returns:  20\n"
     ]
    }
   ],
   "source": [
    "# Example 2 - Scope\n",
    "# Calling an variable outside of the function code block.\n",
    "\n",
    "q = 10\n",
    "\n",
    "def function_test2(r):\n",
    "    return r*q\n",
    "\n",
    "print('The above function wiht r = 2 returns: ', function_test2(2))\n",
    "\n",
    "# Additional notes:\n",
    "# 1) Avoid writing codes like this. Unless the variable is deliberately made global."
   ]
  },
  {
   "cell_type": "markdown",
   "metadata": {},
   "source": [
    "#### Anonymous Function (Lambda Expression)\n",
    "- An anonymous function is one that is defined using *lambda expression*, without using the `def` block shown above.\n",
    "- This is useful for making quick operation or computation.\n",
    "- Syntax of lambda expression `lambda x: <operation with x>`"
   ]
  },
  {
   "cell_type": "code",
   "execution_count": 28,
   "metadata": {},
   "outputs": [
    {
     "name": "stdout",
     "output_type": "stream",
     "text": [
      "Area of rectangle with length = 4, width = 6:  24\n"
     ]
    }
   ],
   "source": [
    "# Example: Lambda Expression\n",
    "\n",
    "area_of_rect3 = lambda length, width: length*width\n",
    "\n",
    "print('Area of rectangle with length = 4, width = 6: ', area_of_rect3(4, 6))"
   ]
  },
  {
   "cell_type": "code",
   "execution_count": 29,
   "metadata": {},
   "outputs": [
    {
     "name": "stdout",
     "output_type": "stream",
     "text": [
      "Area of rectangle with length = 5, width = 8:  40\n"
     ]
    }
   ],
   "source": [
    "# Example: Lambda Expression - Using other function\n",
    "\n",
    "area_of_rect4 = lambda length,width: area_of_rect(lenght, width)\n",
    "\n",
    "print('Area of rectangle with length = 5, width = 8: ', area_of_rect(5, 8))"
   ]
  },
  {
   "cell_type": "markdown",
   "metadata": {},
   "source": [
    "---------------"
   ]
  },
  {
   "cell_type": "markdown",
   "metadata": {},
   "source": [
    "## Tips & Tricks"
   ]
  },
  {
   "cell_type": "markdown",
   "metadata": {},
   "source": [
    "#### How to create a list quickly\n",
    "1. Create a string with the elements.\n",
    "2. Use `.split()` method on the string. This returns a list!\n",
    "3. However the items in the list will be of string data type.\n"
   ]
  },
  {
   "cell_type": "code",
   "execution_count": 30,
   "metadata": {},
   "outputs": [
    {
     "data": {
      "text/plain": [
       "['1', '2', '3', '4', '5', '6']"
      ]
     },
     "execution_count": 30,
     "metadata": {},
     "output_type": "execute_result"
    }
   ],
   "source": [
    "# Example - Creating a list quickly\n",
    "\n",
    "'1,2,3,4,5,6'.split(',')"
   ]
  },
  {
   "cell_type": "markdown",
   "metadata": {},
   "source": [
    "#### List comprehension\n",
    "- This condenses conditional statements and loops into a single operation!\n",
    "\n",
    "###### Example: Obtaining even numbers from 1-100\n",
    "Typical steps:\n",
    "1. Define an empty list, `L`.\n",
    "2. Iterate through 1-100. \n",
    "3. For each iteration, if the remainder is 0 when the number is divided by 2, then append that number into `L`\n",
    "\n",
    "The code as follows:"
   ]
  },
  {
   "cell_type": "code",
   "execution_count": 31,
   "metadata": {},
   "outputs": [
    {
     "name": "stdout",
     "output_type": "stream",
     "text": [
      "[0, 2, 4, 6, 8, 10, 12, 14, 16, 18, 20, 22, 24, 26, 28, 30, 32, 34, 36, 38, 40, 42, 44, 46, 48, 50, 52, 54, 56, 58, 60, 62, 64, 66, 68, 70, 72, 74, 76, 78, 80, 82, 84, 86, 88, 90, 92, 94, 96, 98, 100]\n"
     ]
    }
   ],
   "source": [
    "# Example - Obtaining even numbers from 1-100: The long method\n",
    "\n",
    "L = []\n",
    "\n",
    "for i in range(101):\n",
    "    if i%2 ==0:\n",
    "        L.append(i)\n",
    "        \n",
    "print(L)"
   ]
  },
  {
   "cell_type": "code",
   "execution_count": 32,
   "metadata": {},
   "outputs": [
    {
     "name": "stdout",
     "output_type": "stream",
     "text": [
      "[0, 2, 4, 6, 8, 10, 12, 14, 16, 18, 20, 22, 24, 26, 28, 30, 32, 34, 36, 38, 40, 42, 44, 46, 48, 50, 52, 54, 56, 58, 60, 62, 64, 66, 68, 70, 72, 74, 76, 78, 80, 82, 84, 86, 88, 90, 92, 94, 96, 98, 100]\n"
     ]
    }
   ],
   "source": [
    "# Example - Obtaining even numbers from 1-100 using List Comprehension\n",
    "\n",
    "L = [i for i in range(101) if i%2==0]\n",
    "\n",
    "print(L)\n",
    "\n",
    "# Additional notes:\n",
    "# 1) Take some time to understand the logic and sequence"
   ]
  },
  {
   "cell_type": "code",
   "execution_count": 33,
   "metadata": {},
   "outputs": [
    {
     "name": "stdout",
     "output_type": "stream",
     "text": [
      "[1, 2, 3, 4, 5, 6]\n"
     ]
    }
   ],
   "source": [
    "# Example - Changing a list of string digits to integer\n",
    "\n",
    "S = '1,2,3,4,5,6'\n",
    "L1 = [int(i) for i in S.split(',')]\n",
    "\n",
    "print(L1)"
   ]
  },
  {
   "cell_type": "markdown",
   "metadata": {},
   "source": [
    "###### Finding incremental change\n",
    "- Is it then possible to find the incremental changes in a list of numbers."
   ]
  },
  {
   "cell_type": "code",
   "execution_count": 34,
   "metadata": {},
   "outputs": [
    {
     "name": "stdout",
     "output_type": "stream",
     "text": [
      "[1, 1, 1, 1, 1]\n"
     ]
    }
   ],
   "source": [
    "# Example - Finding incremental change in a list\n",
    "\n",
    "L = [1,2,3,4,5,6]\n",
    "\n",
    "change = [j - i for i,j in zip(L, L[1:])]\n",
    "\n",
    "print(change)"
   ]
  },
  {
   "cell_type": "markdown",
   "metadata": {},
   "source": [
    "###### Writing a conditional in a single statement\n",
    "- In the same vein, a variable can be defined using conditionals\n",
    "- Example:\n",
    "        ```python\n",
    "        a = 5\n",
    "        b = 1 if a > 5 else a+1\n",
    "        ```\n",
    "       *What is the value of b?*\n",
    "       \n",
    "- This is useful to change the value of a variable that is used as a flag or indicator."
   ]
  },
  {
   "cell_type": "code",
   "execution_count": 35,
   "metadata": {},
   "outputs": [
    {
     "name": "stdout",
     "output_type": "stream",
     "text": [
      "6\n"
     ]
    }
   ],
   "source": [
    "a = 5\n",
    "b = 1 if a > 5 else a+1\n",
    "\n",
    "print(b)"
   ]
  },
  {
   "cell_type": "markdown",
   "metadata": {},
   "source": [
    "#### Dictionary Comprehension\n",
    "- Similar to list comprehension, dictionary comprehension condenses dictionary operations into one line!"
   ]
  },
  {
   "cell_type": "code",
   "execution_count": 36,
   "metadata": {},
   "outputs": [
    {
     "name": "stdout",
     "output_type": "stream",
     "text": [
      "original D {'a': 1, 'b': 2, 'c': 3}\n",
      "D, with its keys and values interchanged:  {1: 'a', 2: 'b', 3: 'c'}\n"
     ]
    }
   ],
   "source": [
    "# Example - Dicitonary Comprehension\n",
    "# Changing keys to values and vice versa.\n",
    "\n",
    "D = {'a':1, 'b':2, 'c':3}\n",
    "\n",
    "D_flip = {v:k for k,v in D.items()}\n",
    "\n",
    "print('original D', D)\n",
    "print('D, with its keys and values interchanged: ', D_flip)"
   ]
  },
  {
   "cell_type": "code",
   "execution_count": 37,
   "metadata": {},
   "outputs": [
    {
     "name": "stdout",
     "output_type": "stream",
     "text": [
      "D1:  {'a': '1', 'b': '2', 'c': '3'}\n",
      "D2:  {'a': 1, 'b': 2, 'c': 3}\n"
     ]
    }
   ],
   "source": [
    "# Example - A simple example to create a dictionary quickly:\n",
    "\n",
    "D1 = {k:v for k,v in zip('a,b,c'.split(','), '1,2,3'.split(','))}\n",
    "\n",
    "print('D1: ', D1)\n",
    "\n",
    "# Then use dictionary comprehension to convert the values to integers.\n",
    "\n",
    "D2 = {k:int(v) for k,v in D1.items()}\n",
    "\n",
    "print('D2: ', D2)\n",
    "\n",
    "# Additional notes:\n",
    "# 1) Introducing the function zip(), which takes in a tuple of iterables.\n"
   ]
  },
  {
   "cell_type": "markdown",
   "metadata": {},
   "source": [
    "----------"
   ]
  },
  {
   "cell_type": "markdown",
   "metadata": {},
   "source": [
    "## Introduction to Simulation\n",
    "\n",
    "Key points\n",
    "- Events are not deterministic in practice - many factors can influence the outcome.\n",
    "- Simulation can help to understand how a system or strategy would behave when subject to uncertainty and produce a *likely* outcome.\n",
    "- Key ingredients in simulation:\n",
    "    - A model to represent the event\n",
    "    - Key parameter of interest, and the operating ranges of the parameters\n",
    "    - Iteration\n",
    "    - Random number generation to model uncertainty. This can be done using `numpy`, a powerful Python package that is built to perform numerical computations efficiently.\n",
    "\n",
    "#### Profit or Loss?\n",
    "- Consider an event with 3 possible outcomes:\n",
    "    1. Make a profit of \\$10 with a probability of 0.6\n",
    "    2. Make a loss of \\$5 with a probability of 0.2\n",
    "    3. Status quo with a probability of 0.2\n",
    "    \n",
    "*Note: Make sure that the probabilities sum up to 1.*\n",
    "\n",
    "The expected profit or loss can be easily calculated by using the following formula: $E=\\sum(p*V)$, where $p$ is the probability of obtaining value $V$.\n",
    "\n",
    "Using the formula, the expected profit/loss is $5.\n",
    "\n",
    "The expected value can also be calculated using simulation. The outcome will be in close agreement with the expected value computed.\n",
    "    "
   ]
  },
  {
   "cell_type": "code",
   "execution_count": 38,
   "metadata": {},
   "outputs": [
    {
     "name": "stdout",
     "output_type": "stream",
     "text": [
      "Expected Profit/Loss:  + 5.245\n"
     ]
    }
   ],
   "source": [
    "# Example - Computing the expected Profit or Loss\n",
    "\n",
    "import numpy as np\n",
    "\n",
    "trials = []\n",
    "\n",
    "for _ in range(1000):\n",
    "    trials.append(np.random.choice([10, -5, 0], p=[0.6, 0.2, 0.2], replace=True))\n",
    "\n",
    "e = np.mean(trials)\n",
    "print('Expected Profit/Loss: ', '-' if e < 0 else '+', e)\n",
    "\n",
    "# Additional notes:\n",
    "# 1) Note the empty assignment using \"_\"."
   ]
  },
  {
   "cell_type": "markdown",
   "metadata": {},
   "source": [
    "#### A Business Venture\n",
    "\n",
    "Consider a company that provides a service. The profit is dependent on number of customers serviced, and the costs of operations. Due to uncertainty in the market, the number of customers and costs of operations can vary from year to year. As the owner of the business, you estimated that \n",
    "- the number of customers has a 30% chance to increase by 15%, 40% chance to increase by 5%, and a 30% chance to decrease by 10%\n",
    "- the operation cost has a 35% chance to increase 5%, 15% to increase by 15%, 10% chance to increase by 25%, 10% to decreas by 10%, 30% to remain the same.\n",
    "\n",
    "You currently have 100 customers and it costs \\\\$100 to run the business. If you charge a customer a fixed price of \\$1.20 each, what is the business outlook for the next 3 years?"
   ]
  },
  {
   "cell_type": "code",
   "execution_count": 39,
   "metadata": {},
   "outputs": [
    {
     "name": "stdout",
     "output_type": "stream",
     "text": [
      "Likelihood that business is profitable in the next 3 years:  0.87\n",
      "Profitability range:  [-58.8569375 185.045    ]\n"
     ]
    }
   ],
   "source": [
    "# Example: Business Venture\n",
    "\n",
    "# Set up the initial values\n",
    "\n",
    "# Starting number of customers\n",
    "numCustomers = 100\n",
    "\n",
    "# Fees collected from each customer\n",
    "f = 1.20\n",
    "\n",
    "# Starting operating cost\n",
    "opCost = 100\n",
    "\n",
    "# Compute the new number of customers and operating cost\n",
    "def new_numbers(num, cost):\n",
    "    # Change in number of customers\n",
    "    delta_num = np.random.choice([0.15, 0.05, -0.1], p=[0.3, 0.4, 0.3], replace=True)\n",
    "    \n",
    "    new_num = num * (1 + delta_num)\n",
    "    \n",
    "    # # Change in operating costs\n",
    "    delta_cost = np.random.choice([0.05, 0.15, 0.25, -0.1, 0], p=[0.35, 0.15, 0.1, 0.1, 0.3], replace=True)\n",
    "    \n",
    "    new_cost = cost * (1 + delta_cost)\n",
    "    \n",
    "    return new_num, new_cost\n",
    "\n",
    "# Simulate over 1000 iterations.\n",
    "# Initialize a list to collect the simulated profits\n",
    "all_sim = []\n",
    "\n",
    "for _ in range(1000):\n",
    "    # Initialize a variable for profits\n",
    "    profit = numCustomers*f - opCost\n",
    "\n",
    "    for y in range(3): #***\n",
    "        newCustomer, newCost = new_numbers(numCustomers, opCost) if y ==0 else new_numbers(newCustomer, newCost)\n",
    "        profit += newCustomer*f - newCost\n",
    "    \n",
    "    all_sim.append(profit)\n",
    "\n",
    "# Proportion profitable\n",
    "# Number of simulations, out of 1000, that result in a positive profit (>0)\n",
    "prop_profit = np.sum(np.array(all_sim) > 0)/1000\n",
    "\n",
    "# 95% confidence interval of profits\n",
    "c95 = np.percentile(all_sim, [2.5, 97.5])\n",
    "\n",
    "print('Likelihood that business is profitable in the next 3 years: ', prop_profit)\n",
    "print('Profitability range: ', c95)\n",
    "\n",
    "\n",
    "# Additional notes:\n",
    "# 1) Outcomes have small variations from simulation to simulation.\n",
    "# 2) Avoid 50-50 probabilities as this will make the variation large. Gather more data first.\n",
    "# 3) The block with *** is built first, before wrapping the whole block with iteration."
   ]
  },
  {
   "cell_type": "markdown",
   "metadata": {},
   "source": [
    "###### Exploring the business venture further\n",
    "\n",
    "As shown the business venture is going to be profitable for the next 3 years. However to gain more insights, it is important to plot the trajectory of the profits.\n",
    "\n",
    "In the subsequent codes, the simulation is carried out again, this time to collect the individual outcome. The de facto plotting package `matplotlib` will also be briefly used here.\n",
    "\n",
    "As shall be shown, the business venture's profitability is on a decreasing trend (and that plotting with Python can be a very painful affair).\n",
    "\n",
    "*Think about*\n",
    "- How to determine the number of years before this business venture becomes not profitable?"
   ]
  },
  {
   "cell_type": "code",
   "execution_count": 40,
   "metadata": {},
   "outputs": [],
   "source": [
    "# Resimulate to plot the chart\n",
    "all_sim2 = []\n",
    "\n",
    "for _ in range(1000):\n",
    "    # Initialize a variable for profits\n",
    "    profit = numCustomers*f - opCost\n",
    "    \n",
    "    y_sim = [profit]\n",
    "    \n",
    "    for y in range(3):\n",
    "        newCustomer, newCost = new_numbers(numCustomers, opCost) if y ==0 else new_numbers(newCustomer, newCost)\n",
    "        y_sim.append(newCustomer*f - newCost)\n",
    "    \n",
    "    all_sim2.append(y_sim)\n",
    "    \n",
    "all_sim2 = np.array(all_sim2)\n",
    "\n",
    "avg_sim = np.mean(all_sim2, axis = 0)\n",
    "\n",
    "med_sim = np.median(all_sim2, axis=0)"
   ]
  },
  {
   "cell_type": "code",
   "execution_count": 41,
   "metadata": {},
   "outputs": [
    {
     "data": {
      "image/png": "[encoded data removed]",
      "text/plain": [
       "<Figure size 720x576 with 1 Axes>"
      ]
     },
     "metadata": {
      "needs_background": "light"
     },
     "output_type": "display_data"
    }
   ],
   "source": [
    "import matplotlib.pyplot as plt\n",
    "\n",
    "plt.figure(figsize=(10,8))\n",
    "plt.plot(avg_sim)\n",
    "plt.plot(med_sim, color='red')\n",
    "plt.title(\"Profitability Trend (Simulated)\")\n",
    "plt.show()"
   ]
  },
  {
   "cell_type": "code",
   "execution_count": 42,
   "metadata": {},
   "outputs": [
    {
     "data": {
      "image/png": "[encoded data removed]",
      "text/plain": [
       "<Figure size 720x576 with 1 Axes>"
      ]
     },
     "metadata": {
      "needs_background": "light"
     },
     "output_type": "display_data"
    }
   ],
   "source": [
    "plt.figure(figsize=(10,8))\n",
    "for i in np.array(all_sim2):\n",
    "    plt.plot(i, color='grey', alpha=0.1)\n",
    "plt.plot(med_sim, color='red', alpha=0.7)\n",
    "plt.title(\"Trajectories of all simulations\")\n",
    "plt.show()"
   ]
  },
  {
   "cell_type": "markdown",
   "metadata": {},
   "source": [
    "#### Simulation for Optimization\n",
    "\n",
    "Key points\n",
    "- The concept is simple: simulate all possible combinations, then see what is the best outcome (think Dr. Strange).\n",
    "- Outcome may not be the optimal optimum and may vary with simulations.\n",
    "- What is discussed here is a super crude form of [dynamic programming](https://en.wikipedia.org/wiki/Dynamic_programming)\n",
    "\n",
    "###### Packing your luggage\n",
    "\n",
    "With the reopening of borders, you are keen to travel again! You have packed your essentials and have 5kg of baggage allowance, which you would want to maximise it. You have the following items that you have de-prioritised until now and you decide to include them to pack your luggage to the brim.\n",
    "\n",
    "You decide that the decision will be determined based on the maximum utility principle. The items you have are:\n",
    "1. Extra mobile phone (weight: 1kg, utility: 2)\n",
    "2. Shopping bag (weight: 0.5kg, utlity: 1.5)\n",
    "3. Empty water bottle (weight: 0.8kg, utility: 3)\n",
    "4. Extra socks (weight: 0.5kg, utility: 2)\n",
    "5. Extra pair of shoes (weight: 2kg, utility: 3)\n",
    "\n",
    "The assumption is that you have multiple numbers of the items above and that you would bring duplicates of the item as long as the items achieve maximum utility.\n",
    "\n",
    "*Steps:* \n",
    "\n",
    "For each iteration:\n",
    "1. Randomly choose 4 items, with replacement.\n",
    "2. Compute the weight of the items. If the weight of the items is within 5kg, then go to next step.\n",
    "3. Compute the utility score.\n",
    "4. If the utility score is the maximum, record the score as the new maximum, and record the combination of items."
   ]
  },
  {
   "cell_type": "code",
   "execution_count": 43,
   "metadata": {},
   "outputs": [],
   "source": [
    "# Example: Packing the luggage.\n",
    "\n",
    "# For simplicity, name the items N1 through N5 respectively, i.e. N1 = Extra mobile phone, N2 = Shopping bag, etc.\n",
    "# Build a dictionary for quick reference of the items.\n",
    "\n",
    "items_dict = {\n",
    "    'N1': {'Name': 'Extra mobile phone', \n",
    "          'weight': 1,\n",
    "          'utility': 2},\n",
    "    'N2': {'Name': 'Shopping bag', \n",
    "          'weight': 0.5,\n",
    "          'utility': 1.5},\n",
    "    'N3': {'Name': 'Empty water bottle', \n",
    "          'weight': 0.8,\n",
    "          'utility': 3},\n",
    "    'N4': {'Name': 'Extra socks', \n",
    "          'weight': 0.5,\n",
    "          'utility': 2},\n",
    "    'N5': {'Name': 'Extra pair of shoes', \n",
    "          'weight': 2,\n",
    "          'utility': 3}\n",
    "}\n",
    "\n",
    "# ---- Set up\n",
    "\n",
    "# List of items to be chosen from\n",
    "items = 'N1,N2,N3,N4,N5'.split(',')\n",
    "\n",
    "# Max weight\n",
    "max_weight = 5\n",
    "\n",
    "# Max utility (initialize)\n",
    "max_util = 0\n",
    "\n",
    "# Combination of items with max utility and within weight constraint (initialize)\n",
    "max_item = 0\n",
    "\n",
    "# ---- Iterate\n",
    "\n",
    "for _ in range(1000):\n",
    "    # Note: This block is built first before wrapping it with iteration\n",
    "    weight = 0\n",
    "    util = 0\n",
    "    temp_bag = []\n",
    "\n",
    "    while weight <= 5:\n",
    "        chosen = np.random.choice(items, 1, replace=True)[0]\n",
    "\n",
    "        weight += items_dict[chosen]['weight']\n",
    "\n",
    "        if weight <= 5:\n",
    "            temp_bag.append(chosen)\n",
    "            util += items_dict[chosen]['utility']\n",
    "            item_weight = weight\n",
    "        else:\n",
    "            break\n",
    "            \n",
    "    if util > max_util:\n",
    "        max_util = util\n",
    "        max_item = temp_bag\n",
    "        \n",
    "# Convert items in item_bag to original names\n",
    "items_by_names = [items_dict[i]['Name'] for i in max_item]"
   ]
  },
  {
   "cell_type": "code",
   "execution_count": 44,
   "metadata": {},
   "outputs": [
    {
     "name": "stdout",
     "output_type": "stream",
     "text": [
      "Maximum utility derived:  19\n"
     ]
    }
   ],
   "source": [
    "print('Maximum utility derived: ', max_util)"
   ]
  },
  {
   "cell_type": "code",
   "execution_count": 45,
   "metadata": {},
   "outputs": [
    {
     "name": "stdout",
     "output_type": "stream",
     "text": [
      "Items to bring: \n",
      "3 Empty water bottle\n",
      "5 Extra socks\n",
      "\n",
      "Weight of the items:  4.699999999999999\n"
     ]
    }
   ],
   "source": [
    "counting = np.unique(items_by_names, return_counts=True)\n",
    "\n",
    "print('Items to bring: ')\n",
    "\n",
    "for v, k in zip(counting[1], counting[0]):\n",
    "    print(v, k)\n",
    "    \n",
    "print('\\nWeight of the items: ', item_weight)"
   ]
  },
  {
   "cell_type": "markdown",
   "metadata": {},
   "source": [
    "###### Outcome\n",
    "\n",
    "The simulation resulted in bringing 5 empty water bottles and 2 units of extra socks, with a utilty of 19.\n",
    "\n",
    "The above may vary slightly with each iteration run. There was a run with maximum utility 18.5 that brings 3 water bottles, 4 units of socks and a shopping bag.\n",
    "\n",
    "There was an instance with 5 water bottles, 1 unit of socks, and 1 shopping bag, and a utility of 18.5.\n",
    "\n",
    "The water bottle will always be included given its low weight and high utility (*The confession is that the question is not crafted well, but I hope the idea is brought across*), but there should not be an instance that the algorithm will ask you to bring 6 water bottle.\n",
    "\n",
    "Think about:\n",
    "- What if you want to limit the same items being brought?"
   ]
  },
  {
   "cell_type": "markdown",
   "metadata": {},
   "source": [
    "# END"
   ]
  },
  {
   "cell_type": "code",
   "execution_count": null,
   "metadata": {},
   "outputs": [],
   "source": []
  }
 ],
 "metadata": {
  "kernelspec": {
   "display_name": "Python 3 (ipykernel)",
   "language": "python",
   "name": "python3"
  },
  "language_info": {
   "codemirror_mode": {
    "name": "ipython",
    "version": 3
   },
   "file_extension": ".py",
   "mimetype": "text/x-python",
   "name": "python",
   "nbconvert_exporter": "python",
   "pygments_lexer": "ipython3",
   "version": "3.9.7"
  }
 },
 "nbformat": 4,
 "nbformat_minor": 4
}
